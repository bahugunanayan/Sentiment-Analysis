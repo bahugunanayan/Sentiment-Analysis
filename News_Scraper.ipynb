{
 "cells": [
  {
   "cell_type": "code",
   "execution_count": 1,
   "id": "7aae3906",
   "metadata": {},
   "outputs": [],
   "source": [
    "import requests\n",
    "import pandas as pd\n",
    "from requests_html import HTML\n",
    "from requests_html import HTMLSession"
   ]
  },
  {
   "cell_type": "code",
   "execution_count": 2,
   "id": "bf3dd7cc",
   "metadata": {},
   "outputs": [],
   "source": [
    "url = \"https://www.indiatoday.in/news.html\""
   ]
  },
  {
   "cell_type": "code",
   "execution_count": 3,
   "id": "337acc3d",
   "metadata": {},
   "outputs": [
    {
     "data": {
      "text/plain": [
       "<Response [200]>"
      ]
     },
     "execution_count": 3,
     "metadata": {},
     "output_type": "execute_result"
    }
   ],
   "source": [
    "session = HTMLSession()\n",
    "response = session.get(url)\n",
    "response"
   ]
  },
  {
   "cell_type": "code",
   "execution_count": 4,
   "id": "bfa7e3e1",
   "metadata": {},
   "outputs": [],
   "source": [
    "def get_source(url):\n",
    "    \"\"\"Return the source code for the provided URL. \n",
    "\n",
    "    Args: \n",
    "        url (string): URL of the page to scrape.\n",
    "\n",
    "    Returns:\n",
    "        response (object): HTTP response object from requests_html. \n",
    "    \"\"\"\n",
    "\n",
    "    try:\n",
    "        session = HTMLSession()\n",
    "        response = session.get(url)\n",
    "        return response\n",
    "\n",
    "    except requests.exceptions.RequestException as e:\n",
    "        print(e)"
   ]
  },
  {
   "cell_type": "code",
   "execution_count": 5,
   "id": "beb83994",
   "metadata": {},
   "outputs": [
    {
     "data": {
      "text/plain": [
       "<Response [200]>"
      ]
     },
     "execution_count": 5,
     "metadata": {},
     "output_type": "execute_result"
    }
   ],
   "source": [
    "response = get_source(url)\n",
    "response"
   ]
  },
  {
   "cell_type": "code",
   "execution_count": 6,
   "id": "7808555c",
   "metadata": {},
   "outputs": [
    {
     "name": "stdout",
     "output_type": "stream",
     "text": [
      "{'https://www.indiatoday.in/conclave-east/2022', 'https://www.indiatoday.in/pr-newswire', 'https://www.thelallantop.com/', 'https://www.indiatoday.in/india/story/kaali-row-mahua-moitra-bjp-chief-sukanta-arrest-suspend-tmc-1970897-2022-07-06', 'https://www.indiatoday.in/india/story/amravati-accused-has-rape-case-registered-against-him-1970885-2022-07-06', 'https://www.indiatoday.in/elections/story/up-bypolls-sp-hopes-retain-stronghold-bjp-aiming-make-dent-bsp-struggles-stay-relevant-1964682-2022-06-20', 'https://goo.gl/qtxzZf', 'http://www.cosmopolitan.in/', 'https://www.indiatoday.in/world', 'http://www.thomsonpress.com/', 'https://www.indiatoday.in/trending-news', 'https://www.indiatoday.in/foryou', 'https://www.gnttv.com/', 'https://www.indiatoday.in/fact-check/video/fact-check-video-flooded-neighbourhood-in-haryana-becomes-delhi-on-social-media-1970639-2022-07-05?utm_source=rhs&utm_medium=It&utm_campaign=watchrightnow&t_source=rhs&t_medium=It&t_campaign=watchrightnow', 'https://www.indiatoday.in/partners.jsp', 'https://www.indiatoday.in/sports/tennis/story/nick-kyrgios-summoned-to-court-in-australia-over-assault-allegation-1970856-2022-07-06', 'https://www.indiatoday.in/india/story/udaipur-butchers-weaponized-radical-ideology-before-picking-up-cleaver-1970539-2022-07-05?utm_source=rhs&utm_medium=It&utm_campaign=readthis&t_source=rhs&t_medium=It&t_campaign=readthis', 'https://www.indiatoday.in/india/video/karnataka-vastu-expert-chandrashekhar-guruji-stabbed-to-death-in-hubballi-hotel-1970577-2022-07-05?utm_source=rhs&utm_medium=It&utm_campaign=watchrightnow&t_source=rhs&t_medium=It&t_campaign=watchrightnow', 'https://www.indiatoday.in/lifestyle/celebrity/photo/hurricane-gals-assam-s-all-girls-rock-band-at-india-today-east-conclave-2022-in-pics-1970129-2022-07-04', 'https://www.aajtak.in', 'https://www.indiatoday.in/india/story/kerala-ngo-terminates-gold-smuggling-accused-swapna-suresh-employment-1970881-2022-07-06', 'http://www.robbreportindia.com/limitededition/2018/', 'http://www.readersdigest.co.in/', 'https://auth.indiatoday.in/saml_login/other/aHR0cHM6Ly93d3cuaW5kaWF0b2RheS5pbi9uZXdzLmh0bWwjc3NvbG9naW49MQ==', 'https://www.indiatoday.in/india/story/dnpa-code-of-ethics-1733696-2020-10-21', 'https://www.indiatoday.in/business', 'https://www.indiatoday.in/sports/tennis/story/wimbledon-2022-i-showed-some-good-tennis-to-novak-djokovic-jannik-sinner-after-crashing-out-in-quarterfinal-1970873-2022-07-06', 'https://www.indiatoday.in/best-universities', 'https://www.indiatoday.in/sports/tennis/story/wimbledon-arabs-always-lose-in-quarters-please-break-this-ons-jabeur-happy-to-fulfill-hicham-arazi-s-request-1970899-2022-07-06', 'https://www.indiatoday.in/trending-news/story/these-no-parking-signs-from-bengaluru-are-viral-the-internet-has-a-lot-to-say-about-them-1970532-2022-07-05', 'https://www.indiatoday.in/newsletter', 'https://www.indiatoday.in/correction-policy', 'https://www.indiatoday.in/videos', 'https://www.indiatoday.in/movies/bollywood/story/blood-sweat-and-bruises-how-taapsee-pannu-became-mithali-raj-watch-1970905-2022-07-06', 'https://www.readersdigest.in/', 'https://www.indiatoday.in/india/video/amravati-murder-cctv-footage-attackers-stalking-slitting-throat-umesh-kolhe-1970833-2022-07-06', 'https://www.indiatoday.in/technology/news/story/redmi-k50i-5g-is-coming-to-india-this-month-gets-a-launch-date-1970918-2022-07-06', 'https://www.indiatoday.in/india/video/monsoon-wreaks-havoc-country-maharashtra-assam-receive-torrential-rains-1970842-2022-07-06', 'http://theredlab.in/', 'https://www.indiatoday.in/elections/story/clashes-bogus-votes-mar-elections-in-darjeeling-siliguri-1966942-2022-06-26', 'https://www.indiatoday.in/conclave-east-2022/video/working-with-bjp-does-not-mean-we-compromise-our-identity-meghalaya-cm-conrad-sangma-1970594-2022-07-05?utm_source=rhs&utm_medium=It&utm_campaign=watchrightnow&t_source=rhs&t_medium=It&t_campaign=watchrightnow', 'https://www.indiatoday.in/programme/first-up/video/mahua-moitra-kaali-poster-row-tmc-aimim-anger-aurangabad-renaming-1970888-2022-07-06', 'https://malayalam.indiatoday.in/', 'https://www.indiatoday.in/movies/regional-cinema/story/samantha-to-make-her-bollywood-debut-opposite-ayushmann-khurrana-in-dinesh-vijan-s-film-report-1970876-2022-07-06', 'https://www.indiatoday.in/news.html', 'https://www.indiatoday.in/elections/story/voting-18-municipal-councils-28-municipalities-underway-haryana-1964228-2022-06-19', 'https://www.indiatoday.in/our-apps', 'https://www.indiatoday.in/education-today', 'https://www.indiatoday.in/india/video/india-today-group-vice-chairperson-kalli-purie-launches-new-digital-venture-india-today-north-east-1970588-2022-07-05?utm_source=rhs&utm_medium=It&utm_campaign=watchrightnow&t_source=rhs&t_medium=It&t_campaign=watchrightnow', 'https://www.indiatoday.in/technology/news/story/-whatsapp-messages-offering-free-visas-jobs-in-uk-is-fake-1970808-2022-07-06', 'http://moneytoday.intoday.in/', 'https://www.ishq.com', 'https://www.indiatoday.in/coronavirus-outbreak/story/tamil-nadu-logs-fresh-covid-infections-chennai-tops-infections-1970903-2022-07-06', 'https://www.indiatoday.in/television', 'https://www.indiatoday.in/movies', 'https://www.indiatoday.in/programme/india-s-agenda/video/kaali-row-mahua-moitra-unfollows-trinamool-twitter-bjp-demands-arrest-1970908-2022-07-06', 'https://www.businesstoday.in/', 'https://www.indiatodaygaming.com/', 'https://www.indiatoday.in/data-intelligence-unit', 'https://www.indiatoday.in/trending-news/story/swiggy-will-reward-you-if-you-can-find-the-delivery-man-who-rode-a-horse-in-heavy-mumbai-rains-1970828-2022-07-06', 'https://www.indiatoday.in/newsmo/video/watch-taapsee-pannu-talks-about-women-in-sports-film-budgets-chak-de-india-more-1970721-2022-07-05?utm_source=rhs&utm_medium=It&utm_campaign=watchrightnow&t_source=rhs&t_medium=It&t_campaign=watchrightnow', 'http://subscriptions.digitaltoday.in/subscriptions/time/subscription.html', 'http://www.indiatodayconclave.com/', 'https://www.indiatoday.in/india/story/amravati-killing-chemist-umesh-kolhe-8-inch-stab-wound-till-spine-nupur-sharma-1970893-2022-07-06', 'https://www.indiatoday.in/sports/cricket/story/joe-root-on-england-s-new-style-of-test-cricket-we-are-heading-into-the-unknown-there-is-more-come-1970827-2022-07-06', 'https://www.indiatoday.in/elections/gujarat-assembly-polls-2022/story/buses-painted-saffron-gujarat-election-congress-alleges-hindutva-politics-1962947-2022-06-16', 'https://www.indiatoday.in/television/photo/harshad-chopda-pranali-rathod-shaheer-sheikh-to-erica-fernandes-tv-celebs-dazzle-the-red-carpet-at-award-show-1969068-2022-07-01', 'https://www.indiatoday.in/movies/regional-cinema/story/shruti-haasan-says-i-am-doing-perfectly-fine-as-she-quashes-rumours-of-hospitalisation-1970846-2022-07-06', 'http://mailtoday.in', 'https://www.indiatoday.in/technology', 'https://www.indiatoday.in/conclave-east-2022/story/lieutenant-general-rana-pratap-kalita-agnipath-scheme-agniveer-armed-forces-1970544-2022-07-05?utm_source=rhs&utm_medium=It&utm_campaign=readthis&t_source=rhs&t_medium=It&t_campaign=readthis', 'https://www.indiatoday.in/fact-check', 'https://www.indiatoday.in/movies/photo/athiya-shetty-and-kl-rahul-jet-off-to-germany-see-pics-1966828-2022-06-26', 'https://www.indiatoday.in/india/story/sc-refuses-to-cancel-actor-vijay-babu-bail-in-sexual-assault-case-1970916-2022-07-06', 'https://www.aajtak.in/rate-card', 'https://www.indiatoday.in/shopping/', 'https://www.indiatoday.in/binge-watch', 'https://www.indiatoday.in/trending-news/story/wordle-382-word-of-the-day-july-6-something-perceived-as-trivial-or-superficial-1970839-2022-07-06', 'https://www.indiatoday.in/sports/cricket/story/july-6-2019-rohit-sharma-becomes-1st-batter-to-hit-5-hundred-in-a-single-edition-of-odi-world-cup-1970869-2022-07-06', 'https://www.indiatoday.in/horoscopes', 'https://www.indiatodaygroup.com/privacy-policy.html', 'https://www.indiatoday.in/technology/news/story/ultahuman-ring-looks-like-a-usual-ring-but-tracks-your-metabolic-health-in-real-time-1970902-2022-07-06', 'https://www.indiatoday.in/sports', 'https://www.indiatoday.in/visualstories/', 'https://www.indiatoday.in/sitemap', 'http://www.businesstoday.in', 'https://www.indiatoday.in/movies/celebrities/story/hrithik-roshan-is-having-major-fomo-as-he-is-yet-to-watch-his-friend-r-madhavan-s-rocketry-1970884-2022-07-06', 'https://www.indiatoday.in/trending-news/story/father-s-savage-response-to-son-after-he-puts-the-wrong-address-while-ordering-food-will-make-you-go-rofl-viral-1970891-2022-07-06', 'https://www.indiacontent.in/', 'https://www.indiatoday.in/movies/bollywood/story/vijay-sethupathi-to-play-villain-in-shah-rukh-khan-and-atlee-s-jawan-exclusive-1970840-2022-07-06', 'https://www.indiatoday.in/india/story/mahrashtra-political-scenario-bmc-polls-next-uddhav-thackeray-shiv-sena-retain-stronghold-eknath-shinde-bjp-1970547-2022-07-05?utm_source=rhs&utm_medium=It&utm_campaign=readthis&t_source=rhs&t_medium=It&t_campaign=readthis', 'https://aajtak.intoday.in/sahitya/2018/', 'https://www.ichowk.in/', 'https://www.indiatoday.in/cities', 'https://www.itg.gg/', 'https://bangla.aajtak.in/', 'https://www.indiatoday.in/trending-news/story/little-boy-jumps-with-joy-as-elder-brother-returns-from-school-dharmendra-shares-viral-video-1970569-2022-07-05', 'http://www.music-today.com/', 'https://www.facebook.com/IndiaToday/', 'https://www.indiatoday.in/bestcolleges/2018', 'https://www.indiatoday.in/interactive/cryptocurrency-price-in-india-bitcoin-ethereum-dogecoin-ripple-litecoin/', 'https://www.indiatoday.in/science', 'https://www.indiatoday.in/elections', 'https://twitter.com/indiatoday', 'https://www.indiatoday.in/movies/celebrities/story/hansal-mehta-breaks-silence-on-not-casting-gay-actors-in-modern-love-mumbai-s-baai-1970820-2022-07-06', 'https://www.indiatoday.in/trending-news/story/viral-video-of-a-man-selling-fruits-in-a-bizarre-way-will-make-you-laugh-out-loud-watch-1970469-2022-07-05', 'https://www.indiatoday.in/technology/news/story/samsung-galaxy-m13-5g-launch-date-india-price-specifications-design-1970875-2022-07-06', 'https://play.indiatodaygaming.com/', 'https://www.indiatoday.in/newsmo', 'https://www.indiatoday.in/movies/regional-cinema/story/aishwarya-rai-bachchan-looks-regal-as-nandini-in-mani-ratnam-s-ponniyin-selvan-see-first-look-poster-1970914-2022-07-06', 'https://www.aajtakcampus.in/', 'https://www.indiatoday.in/india/story/mla-ramesh-kadam-bail-plea-rejected-mumbai-court-embezzlement-1970870-2022-07-06', 'https://www.indiatoday.in/technology/news/story/asus-rog-phone-6-pro-gaming-snapdragon-8-plus-gen-1-chipset-launched-price-india-specifications-1970799-2022-07-06', 'https://aajtak.intoday.in/agenda-aajtak/', 'https://www.indiatoday.in/movies/celebrities/story/shamshera-stars-ranbir-kapoor-vaani-kapoor-set-the-internet-ablaze-with-new-photoshoot-see-pics-1970868-2022-07-06', 'https://www.indiatoday.in/magazine', 'https://www.indiatoday.in/technology/tech-tips/story/whatsapp-self-chat-how-to-use-this-feature-to-take-quick-notes-1970841-2022-07-06', 'https://www.indiatoday.in/technology/news/story/nothing-phone-1-price-in-india-tipped-will-cost-more-than-half-of-iphone-13-1970822-2022-07-06', 'https://www.indiatoday.in/elections/story/aap-agnipath-protests-fail-to-influence-haryana-municipal-elections-1965631-2022-06-22', 'https://www.indiatoday.in/india', 'http://www.caretoday.in/', 'https://www.indiatoday.in/elections/story/bypolls-counting-votes-sunday-3-lok-sabha-7-assembly-seats-1966758-2022-06-25', 'https://www.indiatoday.in/movies/celebrities/story/rajkummar-rao-at-india-today-conclave-east-2022-don-t-want-to-be-part-of-rs-100-crore-film-but-good-cinema-1970597-2022-07-05?utm_source=rhs&utm_medium=It&utm_campaign=readthis&t_source=rhs&t_medium=It&t_campaign=readthis', 'https://www.indiatoday.in/', 'https://www.indiatoday.in/health', 'https://goo.gl/BGCmrr', 'https://aajtak.intoday.in/distribution/rio/', 'https://www.indiatoday.in', 'https://www.indiatoday.in/sports/cricket/story/england-vs-india-everything-you-need-to-know-about-odi-and-t20i-series-1970906-2022-07-06', 'https://www.aajtak.in/', 'https://www.indiatoday.in/auto', 'https://www.dailyo.in/', 'https://www.indiatoday.in/sports/cricket/story/british-and-their-habit-of-distorting-history-amit-mishra-slams-barmy-army-for-posting-false-series-result-1970821-2022-07-06', 'https://www.indiatoday.in/lifestyle/celebrity/photo/soumyojit-das-and-sourendro-mullick-talk-about-meeting-lata-mangeshkar-at-conclave-east-2022-in-pics-1970492-2022-07-05', 'https://www.indiatoday.in/lifestyle', 'https://www.indiatoday.in/interactive/', 'https://www.headlinestoday.in/', 'http://www.vasantvalley.org/', 'https://www.indiatoday.in/sports/cricket/story/india-should-allow-star-players-to-take-part-in-overseas-t20-leagues-for-good-of-cricket-aravinda-de-silva-1970907-2022-07-06', 'https://www.indiatoday.in/india/story/chardham-yatra-2022-uttarakhand-weather-badrinath-highway-closed-debris-1970896-2022-07-06', 'https://www.indiatoday.in/elections/gujarat-assembly-polls-2022/story/aam-aadmi-party-gujarat-state-unit-assembly-elections-1961310-2022-06-12', 'https://www.indiatoday.in/livetv', 'https://goo.gl/S8unuW', 'https://www.indiatoday.in/rss', 'https://www.indiatoday.in/crime', 'https://www.indiatoday.in/elections/gujarat-assembly-polls-2022/story/gujarat-patidar-leader-naresh-patel-will-not-join-politics-sources-1962405-2022-06-14', 'https://www.indiatoday.in/technology/news/story/former-facebook-coder-accuses-mark-zuckerberg-of-waving-his-sword-at-employees-in-office-1970848-2022-07-06', 'https://www.indiatoday.in/trending-news/story/virender-sehwag-gets-trolled-for-calling-virat-kohli-chammiya-during-india-england-test-match-1970602-2022-07-05', 'https://www.indiatoday.in/trending-news/story/their-love-is-a-rainbow-read-the-kolkata-gay-couple-s-story-everyone-is-talking-about-1970546-2022-07-05', 'http://aajtak.intoday.in/dilliaajtak/', 'http://subscriptions.intoday.in/subscriptions/itoday/ith_offer.jsp?source=website'}\n"
     ]
    }
   ],
   "source": [
    "link =  response.html.find('div', first=True).absolute_links\n",
    "print(link)"
   ]
  },
  {
   "cell_type": "code",
   "execution_count": 7,
   "id": "db0f66cb",
   "metadata": {},
   "outputs": [
    {
     "name": "stdout",
     "output_type": "stream",
     "text": [
      "googletag.cmd.push(function() { googletag.display('div-gpt-ad-1632815194179-0'); });\n",
      "#block-itg-ads-ads-page-pusher-1x1{ font-size: 0; line-height: 0;}\n",
      "#block-itg-layout-manager-header-block .navigation .second-level-menu.menu > li:nth-child(4) > a{ background-repeat: no-repeat!important; background-position: 5px center!important; padding-left: 30px; background-image: url(\"data:image/svg+xml,%3Csvg viewBox='0 0 18 18' width='18px' height='18px' xmlns='http://www.w3.org/2000/svg'%3E%3Cpath d='M14.3701 0.84375C14.7158 0.84375 15.041 0.911133 15.3457 1.0459C15.6504 1.1748 15.9141 1.35352 16.1367 1.58203C16.3652 1.81055 16.5439 2.07715 16.6729 2.38184C16.8076 2.68652 16.875 3.01172 16.875 3.35742C16.875 3.69727 16.8105 4.0166 16.6816 4.31543C16.5586 4.61426 16.377 4.88379 16.1367 5.12402L5.85352 15.4072L1.125 16.5938L2.31152 11.8564L12.5947 1.58203C12.835 1.3418 13.1045 1.16016 13.4033 1.03711C13.708 0.908203 14.0303 0.84375 14.3701 0.84375ZM3.40137 11.9619C3.68848 12.0381 3.95801 12.1523 4.20996 12.3047C4.46191 12.4512 4.6875 12.627 4.88672 12.832C5.0918 13.0312 5.26758 13.2568 5.41406 13.5088C5.56641 13.7607 5.68066 14.0303 5.75684 14.3174L14.3086 5.76562L11.9531 3.41016L3.40137 11.9619ZM2.28516 15.4336L4.99219 14.7568C4.94531 14.499 4.86035 14.2588 4.7373 14.0361C4.62012 13.8076 4.4707 13.6055 4.28906 13.4297C4.11328 13.248 3.91113 13.0986 3.68262 12.9814C3.45996 12.8584 3.21973 12.7734 2.96191 12.7266L2.28516 15.4336ZM14.9062 5.16797C15.0469 5.0332 15.1846 4.90137 15.3193 4.77246C15.4541 4.64355 15.5742 4.50879 15.6797 4.36816C15.7852 4.22754 15.8701 4.07812 15.9346 3.91992C15.999 3.75586 16.0312 3.56836 16.0312 3.35742C16.0312 3.12891 15.9873 2.91504 15.8994 2.71582C15.8115 2.51074 15.6914 2.33203 15.5391 2.17969C15.3926 2.02734 15.2168 1.90723 15.0117 1.81934C14.8125 1.73145 14.5986 1.6875 14.3701 1.6875C14.1592 1.6875 13.9717 1.71973 13.8076 1.78418C13.6436 1.84863 13.4912 1.93359 13.3506 2.03906C13.21 2.14453 13.0752 2.26465 12.9463 2.39941C12.8232 2.53418 12.6914 2.67188 12.5508 2.8125L14.9062 5.16797Z'%3E%3C/path%3E%3C/svg%3E\")!important;} @media (min-width:1024px){ #block-itg-layout-manager-header-block .navigation .second-level-menu.menu > li:nth-child(4) > a{background-image: url(\"data:image/svg+xml,%3Csvg viewBox='0 0 18 18' width='18px' height='18px' xmlns='http://www.w3.org/2000/svg' fill='%23efef00'%3E%3Cpath d='M14.3701 0.84375C14.7158 0.84375 15.041 0.911133 15.3457 1.0459C15.6504 1.1748 15.9141 1.35352 16.1367 1.58203C16.3652 1.81055 16.5439 2.07715 16.6729 2.38184C16.8076 2.68652 16.875 3.01172 16.875 3.35742C16.875 3.69727 16.8105 4.0166 16.6816 4.31543C16.5586 4.61426 16.377 4.88379 16.1367 5.12402L5.85352 15.4072L1.125 16.5938L2.31152 11.8564L12.5947 1.58203C12.835 1.3418 13.1045 1.16016 13.4033 1.03711C13.708 0.908203 14.0303 0.84375 14.3701 0.84375ZM3.40137 11.9619C3.68848 12.0381 3.95801 12.1523 4.20996 12.3047C4.46191 12.4512 4.6875 12.627 4.88672 12.832C5.0918 13.0312 5.26758 13.2568 5.41406 13.5088C5.56641 13.7607 5.68066 14.0303 5.75684 14.3174L14.3086 5.76562L11.9531 3.41016L3.40137 11.9619ZM2.28516 15.4336L4.99219 14.7568C4.94531 14.499 4.86035 14.2588 4.7373 14.0361C4.62012 13.8076 4.4707 13.6055 4.28906 13.4297C4.11328 13.248 3.91113 13.0986 3.68262 12.9814C3.45996 12.8584 3.21973 12.7734 2.96191 12.7266L2.28516 15.4336ZM14.9062 5.16797C15.0469 5.0332 15.1846 4.90137 15.3193 4.77246C15.4541 4.64355 15.5742 4.50879 15.6797 4.36816C15.7852 4.22754 15.8701 4.07812 15.9346 3.91992C15.999 3.75586 16.0312 3.56836 16.0312 3.35742C16.0312 3.12891 15.9873 2.91504 15.8994 2.71582C15.8115 2.51074 15.6914 2.33203 15.5391 2.17969C15.3926 2.02734 15.2168 1.90723 15.0117 1.81934C14.8125 1.73145 14.5986 1.6875 14.3701 1.6875C14.1592 1.6875 13.9717 1.71973 13.8076 1.78418C13.6436 1.84863 13.4912 1.93359 13.3506 2.03906C13.21 2.14453 13.0752 2.26465 12.9463 2.39941C12.8232 2.53418 12.6914 2.67188 12.5508 2.8125L14.9062 5.16797Z'%3E%3C/path%3E%3C/svg%3E\")!important;color: #efef00;} } .foryou-listing .list-card .container-card .detail p{min-height: 180px;max-height: 180px; overflow: hidden;} .foryou-listing .list-card .container-card .detail p:after { margin: 0 -20px;width: 100%;height: 60px;box-shadow: inset 0 -37px 30px 0 #f7f7f7;content: \"\"; position: absolute; bottom: 0; left: 20px;} @media (min-width:768px) and (max-width:800px){.for-you-listing-10 .foryou-listing:nth-child(3) p{display:block!important}} [data-theme=dark] .videoCube span.video-label.trc_ellipsis{color:#efefef} #block-itg-layout-manager-header-block .navigation .menu { margin-left: 0; max-width: 987px; } .section-livetv #block-itg-layout-manager-header-block .navigation .all-menu { width: 45px; } @media only screen and (min-width: 769px){ #block-views-video-landing-header-block .video-header-left .video {width:84%}}\n",
      ".top-hed-menu{border-bottom:1px solid #d1d1d1;} .top-hed-menu .container ul{padding:0 10px;} .top-hed-menu ul{display:flex;list-style: none;justify-content: start; overflow-x:auto;} .top-hed-menu ul li{margin-right:30px}.top-hed-menu ul li:nth-child(1) a{color:#000} .top-hed-menu ul li a{font-size: 12px;font-weight: 700;color: #938e8e;white-space: nowrap;padding: 5px 0; display: block;line-height: 1.4;} .top-hed-menu .container ul { -ms-overflow-style: none;scrollbar-width: none;} .top-hed-menu .container ul::-webkit-scrollbar { display: none;} [data-theme=dark] .top-hed-menu{border-color:#535353} [data-theme=dark] .top-hed-menu ul li:nth-child(1) a{color:#efefef} @media (max-width:1024px) and (min-width:950px){#block-itg-layout-manager-header-block .navigation .menu li a{font-size:11px;}} .top-marquee{background-color:#fff; color:#a00606} .top-marquee .marquee-child,.top-marquee .marquee-child a{color:#a00606; font-size:16px; text-decoration:none;line-height:33px;} .top-marquee br, .top-marquee p:empty{display:none}\n",
      "IndiaToday\n",
      "Malayalam\n",
      "Business Today\n",
      "DailyO\n",
      "Aaj Tak\n",
      "Lallantop\n",
      "Bangla\n",
      "GNTTV\n",
      "iChowk\n",
      "Reader’s Digest\n",
      "News\n",
      "LIVE TV\n",
      "APP\n",
      "Magazine\n",
      "Login\n",
      "#searchOverlay .scc_overlay,#searchOverlay .web .scc_img_tab_g,section{width:100%}.scc_overlay{position:absolute;top:0;left:0;height:100vh;z-index:9999991;background-color:rgba(0,0,0,.5);display:none}.scc_overlayWrapper{background:#fff;border:2px solid #e9e9e9;padding:5px 20px 10px;position:relative;top:50%;width:80%;margin:0 auto;transform:translateY(-50%);-webkit-transform:translateY(-50%)}.scc_overlayTitle p{color:#000;font-size:16px;text-align:center;font-weight:700}.scc_overlayContent{background:#4d4d4d;border:2px solid #e9e9e9;padding:25px;text-align:center}.scc_closeOlay{font-size:20px;color:#010101;cursor:pointer;text-align:right;font-weight:700}.scc_closeOlay{font-size:20px;color:#010101;cursor:pointer;text-align:right;font-weight:700}.scc_ppButtonWrap{margin:20px 0 0}.scc_ppBtnReSpeak{background:#242424}.scc_ppBtnReSpeak,.scc_ppBtnSubmit{width:100%;display:inline-block;padding:10px;color:#fff;font-size:18px;text-decoration:none}a{margin:0;padding:0;font-size:100%;vertical-align:baseline;background:0 0;color:#000;text-decoration:none}@media only screen and (max-width:768px){#block-itg-layout-manager-header-block .navigation .menu li.search-icon-parent-mobile a{width:30px!important}button.scc_search_home_btn{float:left;background:url(data:image/jpeg;base64,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) center center no-repeat;height:37px;width:40px;border:0;margin-left:0}}.scc_inGssHomeSbOnly input[type=text]{height:37px;float:left;width:calc(100% - 80px)}#block-itg-layout-manager-header-block a.scc_ppBtnSubmit{background:#940206;margin-top:5px;color:#fff}@media (min-width:768px){.scc_inGssHomeSbOnly.web{background:#fff}.scc_inGssHomeSbOnly.web .scc_searchBox{display:flex}#block-itg-layout-manager-header-block .menu-login .social-nav dl dt .scc_inGssHomeSbOnly.web .scc_searchBox>a.scc_micLink{height:37px;padding:0 5px}.scc_inGssHomeSbOnly.web input[type=text]{width:100%}.scc_inGssHomeSbOnly.web button.scc_btn.scc_btn-success{border:0}.scc_overlay{width:100%;top:-40px;position:fixed;height:calc(100vh + 40px)}.scc_overlayWrapper{width:320px}}\n",
      "Home\n",
      "MY FEED\n",
      "Conclave East\n",
      "India\n",
      "World\n",
      "Business\n",
      "Tech\n",
      "Movies\n",
      "Sports\n",
      "Science\n",
      "X\n",
      "#searchOverlay .scc_overlay,#searchOverlay .web .scc_img_tab_g,section{width:100%}.scc_overlay{position:absolute;top:0;left:0;height:100vh;z-index:9999991;background-color:rgba(0,0,0,.5);display:none}.scc_overlayWrapper{background:#fff;border:2px solid #e9e9e9;padding:5px 20px 10px;position:relative;top:50%;width:80%;margin:0 auto;transform:translateY(-50%);-webkit-transform:translateY(-50%)}.scc_overlayTitle p{color:#000;font-size:16px;text-align:center;font-weight:700}.scc_overlayContent{background:#4d4d4d;border:2px solid #e9e9e9;padding:25px;text-align:center}.scc_closeOlay{font-size:20px;color:#010101;cursor:pointer;text-align:right;font-weight:700}.scc_closeOlay{font-size:20px;color:#010101;cursor:pointer;text-align:right;font-weight:700}.scc_ppButtonWrap{margin:20px 0 0}.scc_ppBtnReSpeak{background:#242424}.scc_ppBtnReSpeak,.scc_ppBtnSubmit{width:100%;display:inline-block;padding:10px;color:#fff;font-size:18px;text-decoration:none}a{margin:0;padding:0;font-size:100%;vertical-align:baseline;background:0 0;color:#000;text-decoration:none}@media only screen and (max-width:768px){#block-itg-layout-manager-header-block .navigation .menu li.search-icon-parent-mobile a{width:30px!important}button.scc_search_home_btn{float:left;background:url(data:image/jpeg;base64,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) center center no-repeat;height:37px;width:40px;border:0;margin-left:0}}.scc_inGssHomeSbOnly input[type=text]{height:37px;float:left;width:calc(100% - 80px)}#block-itg-layout-manager-header-block a.scc_ppBtnSubmit{background:#940206;margin-top:5px;color:#fff}@media (min-width:768px){.scc_inGssHomeSbOnly.web{background:#fff}.scc_inGssHomeSbOnly.web .scc_searchBox{display:flex}#block-itg-layout-manager-header-block .menu-login .social-nav dl dt .scc_inGssHomeSbOnly.web .scc_searchBox>a.scc_micLink{height:37px;padding:0 5px}.scc_inGssHomeSbOnly.web input[type=text]{width:100%}.scc_inGssHomeSbOnly.web button.scc_btn.scc_btn-success{border:0}.scc_overlay{width:100%;top:-40px;position:fixed;height:calc(100vh + 40px)}.scc_overlayWrapper{width:320px}}\n",
      "Health\n",
      "Trending\n",
      "Videos\n",
      "Education\n",
      "Auto\n",
      "Cities\n",
      "Crime\n",
      "Lifestyle\n",
      "Binge Watch\n",
      "Television\n",
      "Interactives\n",
      "Visual Stories\n",
      "Horoscopes\n",
      "Fact Check\n",
      "DIU\n",
      "NewsMo\n",
      "Shopping\n",
      "Gaming\n",
      "CODE OF ETHICS\n",
      "Rate Card\n",
      "Dark Mode\n",
      "Speak Now\n",
      "\n",
      "Listening\n",
      "\n",
      "Re SpeakSubmit\n",
      "x\n",
      "advertisement\n",
      "googletag.cmd.push(function() { googletag.display('div-gpt-ad-1507709583969-0'); });\n",
      ".enterad{float:left;position: relative;top: 50px;width:auto; display:none;} .page-taxonomy-term-1206533 .enterad,.page-taxonomy-term-1206567 .enterad,.page-taxonomy-term-1206796 .enterad{ display:block;} @media all and (max-width: 990px) and (min-width:768px){.page-taxonomy-term-1206533 .enterad,.page-taxonomy-term-1206567 .enterad,.page-taxonomy-term-1206796 .enterad{ display:none;} }@media all and (max-width: 767px) {.container.mobileadd{height:auto;}.enterad{ width:100%; text-align:center; padding-top:15px;order: 2; top:0; float:none; width:100%;text-align: left; padding-left: 10px;} .container.mobileadd{padding-right:0px;padding-left:0px;flex-wrap: wrap;display: flex;justify-content: center;}} .page-taxonomy-term .feed-icon{display:none;} .page-sosorry #block-itg-ads-ads-page-pusher-1x1 { display:none; } @media only screen and (max-width: 767px) { .page-sosorry header#header {padding-top: 0px !important;} }\n",
      "News\n",
      "News\n",
      "Top Headlines\n",
      "Bengal BJP demands immediate arrest of TMC MP Mahua Moitra for 'insulting' goddess Kaali\n",
      "Amravati murder: Umesh Kolhe died of 8-inch stab wound that reached his spine, reveals autopsy\n",
      "Father's savage reply to son after he puts wrong address while ordering food is viral\n",
      "News\n",
      ".itg-common-section .droppable{min-height:100px;} .allnews-columns{-webkit-column-width:300px;-moz-column-width:300px;column-width: 300px;-webkit-column-gap:30px; -moz-column-gap:30px;column-gap:30px;} .allnews-columns .news-columns{-webkit-column-break-inside: avoid;break-inside: avoid; margin-bottom:20px;} @media (min-width:768px) and (max-width:1024px){ .allnews-columns{-webkit-column-width:225px;-moz-column-width:225px;column-width: 225px;} }\n",
      "News section card\n",
      "India\n",
      "SC refuses to cancel actor Vijay Babu's bail in sexual assault case\n",
      "SC refuses to cancel actor Vijay Babu's bail in sexual assault case\n",
      "Tamil Nadu logs 2,662 fresh Covid-19 infections; Chennai tops with 1,060 new infections\n",
      "Badrinath highway closed as debris continue to fall near Uttarakhand’s Sirobgad\n",
      "Bengal BJP demands immediate arrest of TMC MP Mahua Moitra for 'insulting' goddess Kaali\n",
      "Amravati murder: Umesh Kolhe died of 8-inch stab wound that reached his spine, reveals autopsy\n",
      "Amravati murder: Accused also has a rape case against him in Indore\n",
      "Kerala NGO 'forced' to terminate gold smuggling accused Swapna Suresh's employment\n",
      "Former NCP MLA Ramesh Kadam's bail plea rejected by Mumbai court\n",
      "News section card\n",
      "Movies\n",
      "Aishwarya Rai Bachchan looks regal as Nandini in Ponniyin Selvan\n",
      "Aishwarya Rai Bachchan looks regal as Nandini in Ponniyin Selvan\n",
      "Blood, sweat and bruises! How Taapsee Pannu became Mithali Raj in Shabaash Mithu. Watch\n",
      "Hrithik Roshan is having major 'FOMO' as he is yet to watch his friend R Madhavan's Rocketry\n",
      "Samantha to make her Bollywood debut opposite Ayushmann Khurrana?\n",
      "Shamshera stars Ranbir Kapoor, Vaani Kapoor set internet ablaze with new photoshoot. See pics\n",
      "Shruti Haasan says 'I am doing perfectly fine' as she quashes rumours of hospitalisation\n",
      "Vijay Sethupathi to play villain in Shah Rukh Khan and Atlee's Jawan | Exclusive\n",
      "Hansal Mehta breaks silence on not casting gay actors in Modern Love Mumbai's Baai\n",
      "News section card\n",
      "Elections\n",
      "Clashes, bogus votes mar elections in Darjeeling, Siliguri\n",
      "Clashes, bogus votes mar elections in Darjeeling, Siliguri\n",
      "Bypolls: Counting of votes tomorrow in 3 Lok Sabha, 7 Assembly seats\n",
      "AAP, Agnipath protests fail to influence Haryana municipal elections\n",
      "UP bypolls: SP hopes to retain stronghold, BJP aiming to make dent while BSP struggles to stay relevant\n",
      "Voting for 18 municipal councils, 28 municipalities underway in Haryana\n",
      "Buses in Gujarat painted saffron ahead of polls, Congress alleges Hindutva politics\n",
      "Gujarat Patidar leader Naresh Patel will not join politics: Sources\n",
      "Aam Aadmi Party to announce Gujarat state unit today\n",
      "News section card\n",
      "Sports\n",
      "ENG vs IND: Everything you need to know about ODI, T20I series\n",
      "ENG vs IND: Everything you need to know about ODI, T20I series\n",
      "India should allow star players to take part in overseas T20 leagues: Aravinda de Silva\n",
      "Arabs always lose in quarters, please break it: Jabeur happy to fulfill Arazi's request\n",
      "July 6, 2019: Rohit Sharma becomes 1st batter to hit 5 hundred in a single WC\n",
      "Joe Root on England's new style of Test cricket: We are heading into the unknown\n",
      "Wimbledon 2022 | I showed some good tennis to Djokovic: Sinner after quarterfinal exit\n",
      "Kyrgios summoned to court in Australia over assault allegation\n",
      "ENG vs IND: Amit Mishra slams Barmy Army for posting false series result\n",
      "News section card\n",
      "Trending News\n",
      "Father's savage reply to son after he puts wrong address while ordering food is viral\n",
      "Father's savage reply to son after he puts wrong address while ordering food is viral\n",
      "Wordle 382 word of the day, July 6: Something perceived as trivial or superficial\n",
      "Swiggy will reward you if you can find the delivery man who rode a horse in heavy Mumbai rains\n",
      "Virender Sehwag gets trolled for calling Virat Kohli 'chammiya' during India-England test match\n",
      "Little boy jumps with joy as elder brother returns from school\n",
      "Their love is a rainbow. Read the Kolkata gay couple's story everyone is talking about\n",
      "These No Parking signs from Bengaluru are viral. The Internet has a lot to say about them\n",
      "Viral video of a man selling fruits in a bizarre way will make you laugh out loud\n",
      "News section card\n",
      "Technology\n",
      "Redmi K50i 5G is coming to India this month, gets a launch date\n",
      "Redmi K50i 5G is coming to India this month, gets a launch date\n",
      "Ultrahuman Ring looks like a usual ring but tracks your metabolic health in real-time\n",
      "Samsung Galaxy M13, Galaxy M13 5G India launch date announced, specifications confirmed\n",
      "Former Facebook coder accuses Mark Zuckerberg of waving his sword at employees in office\n",
      "WhatsApp self-chat: How to use this feature to take quick notes\n",
      "Nothing Phone (1) price in India tipped, will cost more than half of iPhone 13\n",
      "WhatsApp messages offering free visas, jobs in UK is fake\n",
      "Asus ROG Phone 6, 6 Pro gaming phones with Snapdragon 8+ Gen 1 chipset launched in India\n",
      "Latest Photo Galleries\n",
      "3 images\n",
      "Tue, 05 Jul, 2022\n",
      "Soumyojit Das and Sourendro Mullick talk about meeting Lata Mangeshkar at Conclave East 2022 | In Pics\n",
      "6 images\n",
      "Mon, 04 Jul, 2022\n",
      "Hurricane Gals, Assam's all-girls rock band, at India Today East Conclave 2022. In pics\n",
      "12 images\n",
      "Fri, 01 Jul, 2022\n",
      "Harshad Chopda, Pranali Rathod, Shaheer Sheikh to Erica Fernandes, TV celebs dazzle the red carpet at award show\n",
      "5 images\n",
      "Sun, 26 Jun, 2022\n",
      "Athiya Shetty and KL Rahul jet off to Germany. See pics\n",
      "Latest Video Galleries\n",
      "44:34\n",
      "Wed, 06 Jul, 2022\n",
      "Kaali row: Mahua Moitra unfollows Trinamool on Twitter, BJP demands immediate arrest; more\n",
      "66:41\n",
      "Wed, 06 Jul, 2022\n",
      "Mahua Moitra clarifies statement on Kaali poster row, TMC distances itself; AIMIM anger over Aurangabad renaming; more\n",
      "00:44\n",
      "Wed, 06 Jul, 2022\n",
      "Monsoon wreaks havoc in several parts of country; Maharashtra, Assam receive torrential rains\n",
      "02:21\n",
      "Wed, 06 Jul, 2022\n",
      "Amravati murder: CCTV footage of attackers stalking, slitting Umesh Kolhe's throat\n",
      "India Today News breaks the most important stories in and from India and abroad in six sections - India News, Business News, Cinema News, Sports News, World News and Lifestyle News. India News keeps tab of every development in all parts of India. Business News has the latest business updates from India and abroad. Cinema News tracks the latest from Bollywood, Hollywood and the South film industries and TV channels. Sports News has all the sports from India and abroad with a special focus on cricket. Lifestyle News presents developments that impact one's lifestyle. World News makes sense of news across the world and its impact on India\n",
      "advertisement\n",
      "googletag.cmd.push(function() { googletag.display('div-gpt-ad-1507709583969-1'); });\n",
      ".block-itg-ads iframe { max-width: inherit !important; } .anchor-detail-menu .tab-buttons span.active a{text-shadow: 1px 0 0 #000;}\n",
      "READ THIS\n",
      "By mid 2030s, Agniveers will be 50% of armed forces, says Lt Gen Rana Pratap Kalita\n",
      "Rajkummar Rao at Conclave East 2022: Don't want to be part of Rs 100 crore film\n",
      "Udaipur butchers: Weaponized by radical ideology before picking up the cleaver\n",
      "BMC polls next battle line: Can Uddhav Sena retain their stronghold?\n",
      "Suggested Stories\n",
      "window._taboola = window._taboola || []; _taboola.push({article:'auto',tracking:'utm_source=taboola&utm_medium=recirculation'}); !function (e, f, u) { e.async = 1; e.src = u; f.parentNode.insertBefore(e, f); }(document.createElement('script'), document.getElementsByTagName('script')[0], 'https://cdn.taboola.com/libtrc/indiatoday-indiatoday/loader.js');\n",
      "window._taboola = window._taboola || []; _taboola.push( { mode: 'organic-thumbnails-rr', container: 'taboola-right-rail-thumbnails-2nd', placement: 'Right Rail Article Thumbnails 2nd', target_type: 'mix' } );\n",
      "Watch Right Now\n",
      "08:52\n",
      "Karnataka: Vastu expert Chandrashekhar Guruji stabbed to death in Hubballi hotel\n",
      "30:41\n",
      "Working with BJP does not mean we compromise our identity: Meghalaya CM Conrad Sangma\n",
      "03:05\n",
      "Watch: Taapsee Pannu Talks About Women In Sports, Film Budgets, Chak De India & More\n",
      "02:56\n",
      "Fact Check Video: Flooded neighbourhood in Haryana becomes Delhi on social media!\n",
      "07:19\n",
      "India Today Group Vice-Chairperson Kalli Purie launches new digital venture 'India Today North-East'\n",
      "advertisement\n",
      "googletag.cmd.push(function() { googletag.display('div-gpt-ad-1507709583969-2'); });\n",
      "if (explode_url[1] == 'photo' || explode_url[2] == 'photo') { googletag.cmd.push(function() { googletag.display('div-gpt-ad-1607494382215-0'); }); }\n",
      "window._ttCc = window._ttCc || [];_ttCc.push(function(){ window._taboola = window._taboola || []; _taboola.push({category:'auto',tracking:'utm_source=taboola&utm_medium=recirculation'}); !function (e, f, u, i) { if (!document.getElementById(i)){ e.async = 1; e.src = u; e.id = i; f.parentNode.insertBefore(e, f); } }(document.createElement('script'), document.getElementsByTagName('script')[0], '//cdn.taboola.com/libtrc/indiatoday-indiatoday/loader.js', 'tb_loader_script'); if(window.performance && typeof window.performance.mark == 'function') {window.performance.mark('tbl_ic');} }); document.write('<div id =\"taboola-below-category-thumbnails\"></div>'); window._ttCc = window._ttCc || [];_ttCc.push(function(){ window._taboola = window._taboola || []; _taboola.push({ mode: 'alternating-thumbnails-a', container: 'taboola-below-category-thumbnails', placement: 'Below Category Thumbnails', target_type: 'mix' }); }); window._ttCc = window._ttCc || [];_ttCc.push(function(){ window._taboola = window._taboola || []; _taboola.push({flush: true}); });\n",
      "INDIATODAY.IN\n",
      "advertisement\n",
      "googletag.cmd.push(function() { googletag.display('div-gpt-ad-1507709583969-3'); });\n",
      ".view-category-wise-content-list .item-list ul.pager, .view-blog-listing .item-list ul.pager, .page-podcast .view-podcasts-listing .item-list ul.pager, .page-podcasts-listing .view-podcasts-listing .item-list ul.pager { margin: 10px 0; list-style-type: none; text-align: center; } .view-category-wise-content-list .item-list ul.pager li, .view-blog-listing .item-list ul.pager li, .page-podcast .view-podcasts-listing .item-list ul.pager li, .page-podcasts-listing .view-podcasts-listing .item-list ul.pager li { display: inline-block; vertical-align: top; border: 1px solid #dddddd; border-radius: 3px; margin: 0 5px 10px; } .view-category-wise-content-list .item-list ul.pager li.pager-current, .view-blog-listing .item-list ul.pager li.pager-current, .page-podcast .view-podcasts-listing .item-list ul.pager li.pager-current, .page-podcasts-listing .view-podcasts-listing .item-list ul.pager li.pager-current { font-size: 14px; font-size: 0.875rem; line-height: 25px; background-color: #d71920; color: #fff; padding: 3px 11px; border-radius: 3px; border: 0px; font-family: \"OpenSans-Semibold\"; height:auto; width:auto;} .view-category-wise-content-list .item-list ul.pager li.pager-ellipsis, .view-blog-listing .item-list ul.pager li.pager-ellipsis, .page-podcast .view-podcasts-listing .item-list ul.pager li.pager-ellipsis, .page-podcasts-listing .view-podcasts-listing .item-list ul.pager li.pager-ellipsis { padding: 3px 9px; color: #333333; line-height: 25px; border-radius: 3px; } .view-category-wise-content-list .item-list ul.pager li.pager-item a, .view-blog-listing .item-list ul.pager li.pager-item a, .page-podcast .view-podcasts-listing .item-list ul.pager li.pager-item a, .page-podcasts-listing .view-podcasts-listing .item-list ul.pager li.pager-item a { display: block; font-size: 14px; font-size: 0.875rem; line-height: 25px; color: #333333; padding: 3px 11px; font-family: \"OpenSans-Semibold\"; border-radius: 3px; height:auto; width:auto;} .view-category-wise-content-list .item-list ul.pager li.pager-item a:hover, .view-blog-listing .item-list ul.pager li.pager-item a:hover, .page-podcast .view-podcasts-listing .item-list ul.pager li.pager-item a:hover, .page-podcasts-listing .view-podcasts-listing .item-list ul.pager li.pager-item a:hover { background-color: #d71920; color: #fff; border-radius: 3px;} .view-category-wise-content-list .item-list ul.pager li.pager-next a, .view-category-wise-content-list .item-list ul.pager li.pager-last a, .view-category-wise-content-list .item-list ul.pager li.pager-first a, .view-category-wise-content-list .item-list ul.pager li.pager-previous a, .view-blog-listing .item-list ul.pager li.pager-next a, .view-blog-listing .item-list ul.pager li.pager-last a, .view-blog-listing .item-list ul.pager li.pager-first a, .view-blog-listing .item-list ul.pager li.pager-previous a, .page-podcast .view-podcasts-listing .item-list ul.pager li.pager-next a, .page-podcast .view-podcasts-listing .item-list ul.pager li.pager-last a, .page-podcast .view-podcasts-listing .item-list ul.pager li.pager-first a, .page-podcast .view-podcasts-listing .item-list ul.pager li.pager-previous a, .page-podcasts-listing .view-podcasts-listing .item-list ul.pager li.pager-next a, .page-podcasts-listing .view-podcasts-listing .item-list ul.pager li.pager-last a, .page-podcasts-listing .view-podcasts-listing .item-list ul.pager li.pager-first a, .page-podcasts-listing .view-podcasts-listing .item-list ul.pager li.pager-previous a { color: #333333; font-size: 14px; font-size: 0.875rem; line-height: 25px; padding: 3px 10px; font-family: \"OpenSans-Semibold\"; display: block; border-radius: 3px; height:auto; width:auto;} .view-category-wise-content-list .item-list ul.pager li.pager-next a:hover, .view-category-wise-content-list .item-list ul.pager li.pager-last a:hover, .view-category-wise-content-list .item-list ul.pager li.pager-first a:hover, .view-category-wise-content-list .item-list ul.pager li.pager-previous a:hover, .view-blog-listing .item-list ul.pager li.pager-next a:hover, .view-blog-listing .item-list ul.pager li.pager-last a:hover, .view-blog-listing .item-list ul.pager li.pager-first a:hover, .view-blog-listing .item-list ul.pager li.pager-previous a:hover, .page-podcast .view-podcasts-listing .item-list ul.pager li.pager-next a:hover, .page-podcast .view-podcasts-listing .item-list ul.pager li.pager-last a:hover, .page-podcast .view-podcasts-listing .item-list ul.pager li.pager-first a:hover, .page-podcast .view-podcasts-listing .item-list ul.pager li.pager-previous a:hover, .page-podcasts-listing .view-podcasts-listing .item-list ul.pager li.pager-next a:hover, .page-podcasts-listing .view-podcasts-listing .item-list ul.pager li.pager-last a:hover, .page-podcasts-listing .view-podcasts-listing .item-list ul.pager li.pager-first a:hover, .page-podcasts-listing .view-podcasts-listing .item-list ul.pager li.pager-previous a:hover { background-color: #d71920; color: #fff; } .view-category-wise-content-list .item-list ul.pager li.pager-next.pager-first.first, .view-category-wise-content-list .item-list ul.pager li.pager-next.pager-last.last, .view-category-wise-content-list .item-list ul.pager li.pager-last.pager-first.first, .view-category-wise-content-list .item-list ul.pager li.pager-last.pager-last.last, .view-category-wise-content-list .item-list ul.pager li.pager-first.pager-first.first, .view-category-wise-content-list .item-list ul.pager li.pager-first.pager-last.last, .view-category-wise-content-list .item-list ul.pager li.pager-previous.pager-first.first, .view-category-wise-content-list .item-list ul.pager li.pager-previous.pager-last.last, .view-blog-listing .item-list ul.pager li.pager-next.pager-first.first, .view-blog-listing .item-list ul.pager li.pager-next.pager-last.last, .view-blog-listing .item-list ul.pager li.pager-last.pager-first.first, .view-blog-listing .item-list ul.pager li.pager-last.pager-last.last, .view-blog-listing .item-list ul.pager li.pager-first.pager-first.first, .view-blog-listing .item-list ul.pager li.pager-first.pager-last.last, .view-blog-listing .item-list ul.pager li.pager-previous.pager-first.first, .view-blog-listing .item-list ul.pager li.pager-previous.pager-last.last, .page-podcast .view-podcasts-listing .item-list ul.pager li.pager-next.pager-first.first, .page-podcast .view-podcasts-listing .item-list ul.pager li.pager-next.pager-last.last, .page-podcast .view-podcasts-listing .item-list ul.pager li.pager-last.pager-first.first, .page-podcast .view-podcasts-listing .item-list ul.pager li.pager-last.pager-last.last, .page-podcast .view-podcasts-listing .item-list ul.pager li.pager-first.pager-first.first, .page-podcast .view-podcasts-listing .item-list ul.pager li.pager-first.pager-last.last, .page-podcast .view-podcasts-listing .item-list ul.pager li.pager-previous.pager-first.first, .page-podcast .view-podcasts-listing .item-list ul.pager li.pager-previous.pager-last.last, .page-podcasts-listing .view-podcasts-listing .item-list ul.pager li.pager-next.pager-first.first, .page-podcasts-listing .view-podcasts-listing .item-list ul.pager li.pager-next.pager-last.last, .page-podcasts-listing .view-podcasts-listing .item-list ul.pager li.pager-last.pager-first.first, .page-podcasts-listing .view-podcasts-listing .item-list ul.pager li.pager-last.pager-last.last, .page-podcasts-listing .view-podcasts-listing .item-list ul.pager li.pager-first.pager-first.first, .page-podcasts-listing .view-podcasts-listing .item-list ul.pager li.pager-first.pager-last.last, .page-podcasts-listing .view-podcasts-listing .item-list ul.pager li.pager-previous.pager-first.first, .page-podcasts-listing .view-podcasts-listing .item-list ul.pager li.pager-previous.pager-last.last { display: none; }\n",
      "@media (max-width:1024px){footer{position: relative;z-index: 3;}}\n",
      "googletag.cmd.push(function() { googletag.display('div-gpt-ad-1585722889288-0'); });\n",
      "Publications:\n",
      "Business Today\n",
      "Cosmopolitan\n",
      "India Today - Hindi\n",
      "India Today\n",
      "Mail Today\n",
      "Money Today\n",
      "Reader's Digest\n",
      "Time\n",
      "Television:\n",
      "Aaj Tak\n",
      "Delhi Aaj Tak\n",
      "Good News Today\n",
      "India Today TV\n",
      "Radio:\n",
      "Ishq FM\n",
      "Gaming:\n",
      "India Today Gaming\n",
      "World Esports Cup\n",
      "Education:\n",
      "India Today Education\n",
      "Vasant Valley\n",
      "Best Colleges India 2018\n",
      "Best Universities India 2018\n",
      "Aajtak Campus National Aptitude test\n",
      "Online Shopping:\n",
      "Events:\n",
      "Agenda Aajtak\n",
      "India Today Conclave\n",
      "Robb Report India 2018\n",
      "Sahitya Aaj Tak\n",
      "The Red Lab\n",
      "Printing:\n",
      "Thomson Press\n",
      "Welfare:\n",
      "Care Today\n",
      "Music:\n",
      "Music Today\n",
      "Syndications:\n",
      "India content\n",
      "Headlines Today\n",
      "Distribution:\n",
      "Rate Card\n",
      "Useful Links :\n",
      "Partners\n",
      "Press Release\n",
      "Sitemap\n",
      "News\n",
      "Newsletter\n",
      "Privacy Policy\n",
      "Correction Policy\n",
      "footer .footer-copyright { display:none;} footer .footer-copyright-new {color: #a6a6a6;padding: 10px 0;text-align: center;font-size: .75rem;border-top: 1px solid #111;}.app_menu{text-align:center;width: 450px; margin: 0px auto 15px;position: relative;} .app_menu h6{font-size:12px; color:#fff; line-height:16px;margin-bottom: 5px} .app_menu ul li{ display:inline-block; margin:0 5px}@media all and (max-width: 767px) {.app_menu{margin:0px auto 10px; width:100%}.app_menu ul li{margin:0 5px 10px;}}\n",
      "Download App\n",
      "Copyright © 2022 Living Media India Limited. For reprint rights: Syndications Today\n",
      "document.addEventListener(\"DOMContentLoaded\", function(event) { jQuery(\"body .user-menu\").on(\"click\", \".menu__item.last a.menu__link\", function() { document.cookie = 'itg_forced_login=null;domain=www.indiatoday.in;path=/'; document.cookie = 'itg_sso_uid=null;domain=www.indiatoday.in;path=/'; document.cookie = 'itg_g_state=;domain=www.indiatoday.in;path=/'; }) jQuery(\"body .user-menus\").on(\"click\", \".menu__item.last a.menu__link\", function() { document.cookie = 'itg_forced_login=null;domain=www.indiatoday.in;path=/'; document.cookie = 'itg_sso_uid=null;domain=www.indiatoday.in;path=/'; document.cookie = 'itg_g_state=;domain=www.indiatoday.in;path=/'; }) });\n",
      "jQuery(document).ready(function(){jQuery('.add-more-block').on('click',function(){jQuery(this).hide();jQuery(this).parent().parent('.itg-common-section').next('.show-on-add').slideDown(1e3);jQuery(this).parent().parent('.itg-common-section').next('.show-on-add').find('.removes-more-block').show();jQuery(this).parent().parent('.itg-common-section').next('.show-on-add').find('.add-more-block').show();if(jQuery(this).parent().parent('.itg-common-section').next('.itg-common-section').next('.itg-common-section').is(':visible'))jQuery(this).parent().parent('.itg-common-section').next('.itg-common-section').find('.add-more-block').hide()});jQuery('.add-more-block').each(function(){if(jQuery(this).parent().parent('.itg-common-section').next('.itg-common-section').is(':visible'))jQuery(this).hide();if(jQuery(this).parent().parent('.itg-common-section').next('.itg-common-section').html()==null)jQuery(this).remove()});jQuery('.removes-more-block').on('click',function(){jQuery(this).hide();jQuery(this).parent('.itg-common-section').hide();jQuery(this).parent('.itg-common-section').prev('.itg-common-section').find('.add-more-block').show()})}); var _sf_async_config=_sf_async_config||{};_sf_async_config.uid=60355;_sf_async_config.domain='indiatoday.in';_sf_async_config.useCanonical=true;_sf_async_config.sections='News';_sf_async_config.authors='';(function(){function loadChartbeat(){window._sf_endpt=(new Date()).getTime();var e=document.createElement('script');e.setAttribute('language','javascript');e.setAttribute('type','text/javascript');e.setAttribute('src','//static.chartbeat.com/js/chartbeat.js');document.body.appendChild(e)};var oldonload=window.onload;window.onload=(typeof window.onload!='function')?loadChartbeat:function(){oldonload();loadChartbeat()}})(); function inGssHomeSearchBox(){var ighsb=\"<div class='scc_searchBox'><a href='#' title='scc_micLink' name='scc_micLink' class='scc_micLink scc_tlkHsbNw'><svg version='1.1' xmlns='http://www.w3.org/2000/svg' xmlns:xlink='http://www.w3.org/1999/xlink' x='0px' y='0px' width='30px' height='37px' viewBox='0 0 288 287.5' enable-background='new 0 0 288 287.5' xml:space='preserve'> <path fill='none' stroke='#929497' stroke-width='10' stroke-miterlimit='10' d='M170.448,153.013 c0,13.821-11.206,25.022-25.022,25.022l0,0c-13.817,0-25.023-11.201-25.023-25.022V67.22c0-13.821,11.206-25.023,25.023-25.023l0,0 c13.816,0,25.022,11.202,25.022,25.023V153.013z'/> <g><defs><rect id='SVGID_1_' x='75.171' y='159.195' width='139.908' height='126.305'/></defs> <clipPath id='SVGID_2_'><use xlink:href='#SVGID_1_' overflow='visible'/></clipPath> <path clip-path='url(#SVGID_2_)' fill='none' stroke='#929497' stroke-width='10' stroke-miterlimit='10' d='M209.435,152.046 c0,35.538-28.808,64.345-64.345,64.345l0,0c-35.537,0-64.344-28.807-64.344-64.345V73.402c0-35.537,28.807-64.344,64.344-64.344 l0,0c35.537,0,64.345,28.807,64.345,64.344V152.046z'/> </g> <line fill='#808184' stroke='#929497' stroke-width='10' stroke-miterlimit='10' x1='145.125' y1='246.188' x2='145.125' y2='215.088'/> <line fill='#808184' stroke='#929497' stroke-width='10' stroke-miterlimit='10' x1='129.576' y1='246.961' x2='160.674' y2='246.961'/> </svg></a><input id='scc_search_hbx_txt' type='text' data-trn-holder='Enter search keyword' placeholder='Enter search keyword' autocomplete='on' name='search' class='scc_search scc_advancedSearchTextbox trn'><button type='submit' class='scc_btn scc_btn-success scc_search_home_btn'></button></div>\";return ighsb} jQuery(document).ready(function(){var browser=browser_detector(),lang=\"en-US\",recognizing=false,patience=3 function naviPlatfrm(){return true;if(navigator.platform==\"MacIntel\"||navigator.platform==\"Win32\")return true;return false};jQuery(\".scc_inGssHomeSbOnly\").html(inGssHomeSearchBox());if(browser==\"chrome\"){var recognition=new webkitSpeechRecognition()}else jQuery(\".scc_tlkHsbNw\").hide();jQuery(\".scc_settingFilterShow\").click(function(){jQuery(\".scc_FltrWrap\").toggle();jQuery(\"#scc_settingFilters\").toggle()});jQuery(\".scc_fHead\").click(function(){isphotovideonotavail=false;jQuery(\".scc_fHead\").removeClass(\"scc_redActive\");jQuery(this).addClass(\"scc_redActive\");jQuery(\"#scc_all ol\").empty();jQuery(\"#scc_resultStats\").empty();activeTab=jQuery(this).attr(\"tab\");if(activeTab==\"photos\"||activeTab==\"videos\")jQuery(\"#scc_webPagi\").hide();currentPage=1;startPageNum=1;nextPage=1;filter=\"m1\";H=0;Rati=0;var q=jQuery(\"#scc_search_txt\").val()});jQuery(\".scc_tlkHsbNw\").click(function(){jQuery(\".scc_spk_stat_txt_hsb\").html(\"Listening\");speech_recognition_hsb();var jwplayerState=false;jwplayerState=jwplayer().getState();if(jwplayerState==\"playing\")jwplayer().pause()});jQuery(\".scc_search_btn\").click(function(){jQuery(\"#right_search_txt\").val(jQuery(\"#scc_search_txt\").val());search_btn()});jQuery(\".scc_search_mic_btn\").click(function(){jQuery(\"#right_search_txt\").val(jQuery(\"#scc_search_txt\").val());search_btn()}) function browser_detector(){var isOpera=(!!window.opr&&!!opr.addons)||!!window.opera||navigator.userAgent.indexOf(\" OPR/\")>=0;if(isOpera)var browser=\"opera\";var isFirefox=typeof InstallTrigger!==\"undefined\";if(isFirefox)var browser=\"firefox\";var isSafari=Object.prototype.toString.call(window.HTMLElement).indexOf(\"Constructor\")>0;if(isSafari)var browser=\"safari\";var isIE=false||!!document.documentMode;if(isIE)var browser=\"IE\";var isEdge=!isIE&&!!window.StyleMedia;if(isEdge)var browser=\"edge\";var isChrome=!!window.chrome&&!!window.chrome.webstore||navigator.userAgent.indexOf(\" OPR/\")>=0||navigator.userAgent.indexOf(\"Chrome\")>=0;if(isChrome)var browser=\"chrome\";var isBlink=(isChrome||isOpera)&&!!window.CSS;if(isBlink)var engine=\"blink\";return browser};jQuery(\".speech_recognitionEnd\").click(function(){speech_recognitionEnd();jwplayerState=jwplayer().getState();if(jwplayerState==\"paused\")jwplayer().play()}) function speech_recognitionEnd(){jQuery(\".scc_overlay\").hide();jQuery(\".scc_tlkNw\").show();recognition.stop();recognition.onstop=function(){recognizing=false;inputEl.placeholder=oldPlaceholder}} function speech_recognition_hsb(){jQuery(\".scc_overlay\").show();var inputEl=document.querySelector(\"input[name=search]\");recognition.continuous=true;recognition.lang=lang;event.preventDefault();if(recognizing){recognition.stop();return};inputEl.value=finalTranscript=\"\";recognition.start();recognition.onstart=function(){oldPlaceholder=inputEl.placeholder;document.getElementById(\"scc_search_hbx_txt\").focus();inputEl.placeholder=\"Start Talking\";jQuery(\".scc_spk_stat_txt_hsb\").show();jQuery(\".scc_search_home_mic_btn\").hide();recognizing=true;restartTimer()};recognition.onend=function(){recognizing=false;jQuery(\".scc_tlkHsbNw\").show();clearTimeout(timeout);if(oldPlaceholder!==null)inputEl.placeholder=oldPlaceholder};recognition.onresult=function(event){jQuery(\".scc_search_home_mic_btn\").show();jQuery(\".scc_tlkHsbNw\").show();console.log(event,\"shashi\");clearTimeout(timeout);if(event.results[0].isFinal)finalTranscript=event.results[0][0].transcript;finalTranscript=capitalize(finalTranscript);inputEl.value=finalTranscript;jQuery(\".scc_spk_stat_txt_hsb\").html(finalTranscript);restartTimer();jQuery(\"#gsc-i-id1\").trigger(jQuery.Event(\"keydown\",{which:13}))}} function capitalize(str){return str.length?str[0].toUpperCase()+str.slice(1):str} function restartTimer(){timeout=setTimeout(function(){recognition.stop()},patience*2e3)} function getNumber(number){number=parseInt(number,10);return isNaN(number)||number===null||typeof number===\"undefined\"?0:number} function search_home_btn(){var keyword=jQuery(\".scc_inGssHomeSbOnly #scc_search_hbx_txt\").val();console.log(keyword,\"----------\");if(keyword!=\"\"&&keyword!=null&&keyword!=\"undefined\"&&keyword.length>0){myStr=keyword.replace(/(^\\s+|[^a-zA-Z0-9 ]+|\\s+$)/g,\"\");myStr=myStr.replace(/\\s+/g,\"-\");var urldata=Drupal.settings.basePath+\"topic/\"+myStr;window.location.href=urldata}};jQuery(\".scc_search_home_mic_btn,.scc_search_home_btn\").on(\"click\",function(){search_home_btn()});jQuery(\".scc_overlay\").click(function(){});jQuery(document).mouseup(function(e){});jQuery(\".scc_inGssHomeSbOnly\").ready(function(){var homeSccLang=jQuery(\".scc_inGssHomeSbOnly\").attr(\"scc_lang\")});jQuery(\"#scc_inGssSearchResBlk\").ready(function(){if(naviPlatfrm()){jQuery(\"#scc_inGssSearchResBlk\").addClass(\"web\");jQuery(\".scc_inGssHomeSbOnly\").addClass(\"web\")}});if(naviPlatfrm()){jQuery(\"#scc_settingFilters\").hide();jQuery(\".scc_fltrWrpWeb\").css(\"display\",\"inline-block\");jQuery(\".scc_settingFilterShow\").css(\"display\",\"none\");jQuery(\"#scc_cng_vw\").removeClass(\"scc_mob_blk\");jQuery(\"#scc_cng_vw\").addClass(\"scc_desk_blk\")}}); function inGssHomeSearchBox(){var ighsb=\"<div class='scc_searchBox'><a href='#' title='scc_micLink' name='scc_micLink' class='scc_micLink scc_tlkHsbNw'><svg version='1.1' xmlns='http://www.w3.org/2000/svg' xmlns:xlink='http://www.w3.org/1999/xlink' x='0px' y='0px' width='30px' height='37px' viewBox='0 0 288 287.5' enable-background='new 0 0 288 287.5' xml:space='preserve'> <path fill='none' stroke='#929497' stroke-width='10' stroke-miterlimit='10' d='M170.448,153.013 c0,13.821-11.206,25.022-25.022,25.022l0,0c-13.817,0-25.023-11.201-25.023-25.022V67.22c0-13.821,11.206-25.023,25.023-25.023l0,0 c13.816,0,25.022,11.202,25.022,25.023V153.013z'/> <g><defs><rect id='SVGID_1_' x='75.171' y='159.195' width='139.908' height='126.305'/></defs> <clipPath id='SVGID_2_'><use xlink:href='#SVGID_1_' overflow='visible'/></clipPath> <path clip-path='url(#SVGID_2_)' fill='none' stroke='#929497' stroke-width='10' stroke-miterlimit='10' d='M209.435,152.046 c0,35.538-28.808,64.345-64.345,64.345l0,0c-35.537,0-64.344-28.807-64.344-64.345V73.402c0-35.537,28.807-64.344,64.344-64.344 l0,0c35.537,0,64.345,28.807,64.345,64.344V152.046z'/> </g> <line fill='#808184' stroke='#929497' stroke-width='10' stroke-miterlimit='10' x1='145.125' y1='246.188' x2='145.125' y2='215.088'/> <line fill='#808184' stroke='#929497' stroke-width='10' stroke-miterlimit='10' x1='129.576' y1='246.961' x2='160.674' y2='246.961'/> </svg></a><input id='scc_search_hbx_txt' type='text' data-trn-holder='Enter search keyword' placeholder='Enter search keyword' autocomplete='on' name='search' class='scc_search scc_advancedSearchTextbox trn'><button type='submit' class='scc_btn scc_btn-success scc_search_home_btn'></button></div>\";return ighsb} jQuery(document).ready(function(){var browser=browser_detector(),lang=\"en-US\",recognizing=false,patience=3 function naviPlatfrm(){return true;if(navigator.platform==\"MacIntel\"||navigator.platform==\"Win32\")return true;return false};jQuery(\".scc_inGssHomeSbOnly\").html(inGssHomeSearchBox());if(browser==\"chrome\"){var recognition=new webkitSpeechRecognition()}else jQuery(\".scc_tlkHsbNw\").hide();jQuery(\".scc_settingFilterShow\").click(function(){jQuery(\".scc_FltrWrap\").toggle();jQuery(\"#scc_settingFilters\").toggle()});jQuery(\".scc_fHead\").click(function(){isphotovideonotavail=false;jQuery(\".scc_fHead\").removeClass(\"scc_redActive\");jQuery(this).addClass(\"scc_redActive\");jQuery(\"#scc_all ol\").empty();jQuery(\"#scc_resultStats\").empty();activeTab=jQuery(this).attr(\"tab\");if(activeTab==\"photos\"||activeTab==\"videos\")jQuery(\"#scc_webPagi\").hide();currentPage=1;startPageNum=1;nextPage=1;filter=\"m1\";H=0;Rati=0;var q=jQuery(\"#scc_search_txt\").val()});jQuery(\".scc_tlkHsbNw\").click(function(){jQuery(\".scc_spk_stat_txt_hsb\").html(\"Listening\");speech_recognition_hsb();var jwplayerState=false;jwplayerState=jwplayer().getState();if(jwplayerState==\"playing\")jwplayer().pause()});jQuery(\".scc_search_btn\").click(function(){jQuery(\"#right_search_txt\").val(jQuery(\"#scc_search_txt\").val());search_btn()});jQuery(\".scc_search_mic_btn\").click(function(){jQuery(\"#right_search_txt\").val(jQuery(\"#scc_search_txt\").val());search_btn()}) function browser_detector(){var isOpera=(!!window.opr&&!!opr.addons)||!!window.opera||navigator.userAgent.indexOf(\" OPR/\")>=0;if(isOpera)var browser=\"opera\";var isFirefox=typeof InstallTrigger!==\"undefined\";if(isFirefox)var browser=\"firefox\";var isSafari=Object.prototype.toString.call(window.HTMLElement).indexOf(\"Constructor\")>0;if(isSafari)var browser=\"safari\";var isIE=false||!!document.documentMode;if(isIE)var browser=\"IE\";var isEdge=!isIE&&!!window.StyleMedia;if(isEdge)var browser=\"edge\";var isChrome=!!window.chrome&&!!window.chrome.webstore||navigator.userAgent.indexOf(\" OPR/\")>=0||navigator.userAgent.indexOf(\"Chrome\")>=0;if(isChrome)var browser=\"chrome\";var isBlink=(isChrome||isOpera)&&!!window.CSS;if(isBlink)var engine=\"blink\";return browser};jQuery(\".speech_recognitionEnd\").click(function(){speech_recognitionEnd();jwplayerState=jwplayer().getState();if(jwplayerState==\"paused\")jwplayer().play()}) function speech_recognitionEnd(){jQuery(\".scc_overlay\").hide();jQuery(\".scc_tlkNw\").show();recognition.stop();recognition.onstop=function(){recognizing=false;inputEl.placeholder=oldPlaceholder}} function speech_recognition_hsb(){jQuery(\".scc_overlay\").show();var inputEl=document.querySelector(\"input[name=search]\");recognition.continuous=true;recognition.lang=lang;event.preventDefault();if(recognizing){recognition.stop();return};inputEl.value=finalTranscript=\"\";recognition.start();recognition.onstart=function(){oldPlaceholder=inputEl.placeholder;document.getElementById(\"scc_search_hbx_txt\").focus();inputEl.placeholder=\"Start Talking\";jQuery(\".scc_spk_stat_txt_hsb\").show();jQuery(\".scc_search_home_mic_btn\").hide();recognizing=true;restartTimer()};recognition.onend=function(){recognizing=false;jQuery(\".scc_tlkHsbNw\").show();clearTimeout(timeout);if(oldPlaceholder!==null)inputEl.placeholder=oldPlaceholder};recognition.onresult=function(event){jQuery(\".scc_search_home_mic_btn\").show();jQuery(\".scc_tlkHsbNw\").show();console.log(event,\"shashi\");clearTimeout(timeout);if(event.results[0].isFinal)finalTranscript=event.results[0][0].transcript;finalTranscript=capitalize(finalTranscript);inputEl.value=finalTranscript;jQuery(\".scc_spk_stat_txt_hsb\").html(finalTranscript);restartTimer();jQuery(\"#gsc-i-id1\").trigger(jQuery.Event(\"keydown\",{which:13}))}} function capitalize(str){return str.length?str[0].toUpperCase()+str.slice(1):str} function restartTimer(){timeout=setTimeout(function(){recognition.stop()},patience*2e3)} function getNumber(number){number=parseInt(number,10);return isNaN(number)||number===null||typeof number===\"undefined\"?0:number} function search_home_btn(){var keyword=jQuery(\".scc_inGssHomeSbOnly #scc_search_hbx_txt\").val();console.log(keyword,\"----------\");if(keyword!=\"\"&&keyword!=null&&keyword!=\"undefined\"&&keyword.length>0){myStr=keyword.replace(/(^\\s+|[^a-zA-Z0-9 ]+|\\s+$)/g,\"\");myStr=myStr.replace(/\\s+/g,\"-\");var urldata=Drupal.settings.basePath+\"topic/\"+myStr;window.location.href=urldata}};jQuery(\".scc_search_home_mic_btn,.scc_search_home_btn\").on(\"click\",function(){search_home_btn()});jQuery(\".scc_overlay\").click(function(){});jQuery(document).mouseup(function(e){});jQuery(\".scc_inGssHomeSbOnly\").ready(function(){var homeSccLang=jQuery(\".scc_inGssHomeSbOnly\").attr(\"scc_lang\")});jQuery(\"#scc_inGssSearchResBlk\").ready(function(){if(naviPlatfrm()){jQuery(\"#scc_inGssSearchResBlk\").addClass(\"web\");jQuery(\".scc_inGssHomeSbOnly\").addClass(\"web\")}});if(naviPlatfrm()){jQuery(\"#scc_settingFilters\").hide();jQuery(\".scc_fltrWrpWeb\").css(\"display\",\"inline-block\");jQuery(\".scc_settingFilterShow\").css(\"display\",\"none\");jQuery(\"#scc_cng_vw\").removeClass(\"scc_mob_blk\");jQuery(\"#scc_cng_vw\").addClass(\"scc_desk_blk\")}}); document.addEventListener(\"DOMContentLoaded\",function(event){var is_mobile=mobilecheck()?true:false function getGridSize(){return(window.innerWidth<768)?270:\"\"};jQuery(\".trending-videos-flex\").flexslider({animation:\"slide\",animationLoop:(!is_mobile?true:false),itemWidth:getGridSize(),itemMargin:15,prevText:\"\",nextText:\"\",slideshow:false})});\n",
      "jQuery(document).ready(function () { jQuery(\".tab-buttons span , .video_landing_menu a , .slick-arrow, .slick-slide, .pager a\").on('click' , function() { comscoreBeacon(); }); }); function _ttRunCode(t){for(;t.length;){(0,t.splice(0,1)[0])()}}window._ttStRunCode=0,window._ttCodeLoad=window._ttCodeLoad||[],window._ttCc=window._ttCc||[],_ttRunCode(_ttCodeLoad),document.addEventListener('DOMContentLoaded', function(event) {jQuery(window).scroll(function(){_ttStRunCode||(_ttStRunCode=1,_ttRunCode(_ttCc))})}); document.addEventListener('DOMContentLoaded', function(event) { jQuery(window).scroll(function() {if(jQuery(this).scrollTop() > 750) {jQuery('.goToTop').addClass(\"showGototop\"); }else{jQuery('.goToTop').removeClass(\"showGototop\"); } });jQuery(\".goToTop\").click(function () {jQuery(\"body,html\").animate({scrollTop: 0}, 800) }); }); (function(w,d,s,l,i){w[l]=w[l]||[];w[l].push({'gtm.start': new Date().getTime(),event:'gtm.js'});var f=d.getElementsByTagName(s)[0], j=d.createElement(s),dl=l!='dataLayer'?'&l='+l:'';j.async=true;j.src= 'https://www.googletagmanager.com/gtm.js?id='+i+dl;f.parentNode.insertBefore(j,f); })(window,document,'script','dataLayer','GTM-M57NDHZ'); var STD=\"32141\"; var ISD=\"49491\"; var pn=\"NS\"; var cn=\"ITWEBEN\";var tagparameters = \"\"; window._izq = window._izq || []; window._izq.push([\"init\" ]); function logMomentNotification(notification, event) { if (notification.isDisplayed()) { //document.getElementById(\"google_onetap_overlay\").style.display = \"block\"; ga('send', 'event', { eventCategory: 'google_one_tap_signup', eventAction: 'overlay_view', eventLabel: \"ros\"}); } else { //document.getElementById(\"google_onetap_overlay\").style.display = \"none\"; } if (notification.getDismissedReason() !== undefined && notification.getDismissedReason() == 'credential_returned') { ga('send', 'event', { eventCategory: 'google_one_tap_signup', eventAction: 'continue_cta', eventLabel: \"ros\"}); } }\n",
      "@media (max-width:767px) { #install-button_child{ display: flex; flex-wrap: wrap; width: 100%;} .b_logo_text{width: calc(100% - 50px); display: flex; flex-wrap: wrap;align-items: center;} .b_logo_text .b_logo{width: 50px; height: auto; margin-right: 10px;} .b_logo_text .b_logo img{width: 100%; height: auto; display: block;} .b_logo_text p{ font-size: 14px; font-weight: normal; line-height: 18px; color: #000;width: calc(100% - 60px); padding: 5px 0px;} .b_logo_text p a{color: #002866; text-decoration: none;font-size: 16px;} .b_cross{ width: 50px; text-align: center; cursor: pointer; } .b_cross svg{ width: 20px; height: 20px; fill:#000; cursor: pointer; margin-top:10px;} .install-button {bottom: 0px; position: fixed; width: 100%; background-color: #fff; box-shadow: 1px -3px 10px #898989; z-index: 9999; padding: 10px; } .front .install-button{bottom:35px} }\n",
      "Add IndiaToday to Home Screen\n",
      "function isMobile() { var check = false; (function(a){ if (/(android|bb\\d+|meego).+mobile|avantgo|bada\\/|blackberry|blazer|compal|elaine|fennec|hiptop|iemobile|ip(hone|od)|iris|kindle|lge |maemo|midp|mmp|mobile.+firefox|netfront|opera m(ob|in)i|palm( os)?|phone|p(ixi|re)\\/|plucker|pocket|psp|series(4|6)0|symbian|treo|up\\.(browser|link)|vodafone|wap|windows ce|xda|xiino/i.test(a) || /1207|6310|6590|3gso|4thp|50[1-6]i|770s|802s|a wa|abac|ac(er|oo|s\\-)|ai(ko|rn)|al(av|ca|co)|amoi|an(ex|ny|yw)|aptu|ar(ch|go)|as(te|us)|attw|au(di|\\-m|r |s )|avan|be(ck|ll|nq)|bi(lb|rd)|bl(ac|az)|br(e|v)w|bumb|bw\\-(n|u)|c55\\/|capi|ccwa|cdm\\-|cell|chtm|cldc|cmd\\-|co(mp|nd)|craw|da(it|ll|ng)|dbte|dc\\-s|devi|dica|dmob|do(c|p)o|ds(12|\\-d)|el(49|ai)|em(l2|ul)|er(ic|k0)|esl8|ez([4-7]0|os|wa|ze)|fetc|fly(\\-|_)|g1 u|g560|gene|gf\\-5|g\\-mo|go(\\.w|od)|gr(ad|un)|haie|hcit|hd\\-(m|p|t)|hei\\-|hi(pt|ta)|hp( i|ip)|hs\\-c|ht(c(\\-| |_|a|g|p|s|t)|tp)|hu(aw|tc)|i\\-(20|go|ma)|i230|iac( |\\-|\\/)|ibro|idea|ig01|ikom|im1k|inno|ipaq|iris|ja(t|v)a|jbro|jemu|jigs|kddi|keji|kgt( |\\/)|klon|kpt |kwc\\-|kyo(c|k)|le(no|xi)|lg( g|\\/(k|l|u)|50|54|\\-[a-w])|libw|lynx|m1\\-w|m3ga|m50\\/|ma(te|ui|xo)|mc(01|21|ca)|m\\-cr|me(rc|ri)|mi(o8|oa|ts)|mmef|mo(01|02|bi|de|do|t(\\-| |o|v)|zz)|mt(50|p1|v )|mwbp|mywa|n10[0-2]|n20[2-3]|n30(0|2)|n50(0|2|5)|n7(0(0|1)|10)|ne((c|m)\\-|on|tf|wf|wg|wt)|nok(6|i)|nzph|o2im|op(ti|wv)|oran|owg1|p800|pan(a|d|t)|pdxg|pg(13|\\-([1-8]|c))|phil|pire|pl(ay|uc)|pn\\-2|po(ck|rt|se)|prox|psio|pt\\-g|qa\\-a|qc(07|12|21|32|60|\\-[2-7]|i\\-)|qtek|r380|r600|raks|rim9|ro(ve|zo)|s55\\/|sa(ge|ma|mm|ms|ny|va)|sc(01|h\\-|oo|p\\-)|sdk\\/|se(c(\\-|0|1)|47|mc|nd|ri)|sgh\\-|shar|sie(\\-|m)|sk\\-0|sl(45|id)|sm(al|ar|b3|it|t5)|so(ft|ny)|sp(01|h\\-|v\\-|v )|sy(01|mb)|t2(18|50)|t6(00|10|18)|ta(gt|lk)|tcl\\-|tdg\\-|tel(i|m)|tim\\-|t\\-mo|to(pl|sh)|ts(70|m\\-|m3|m5)|tx\\-9|up(\\.b|g1|si)|utst|v400|v750|veri|vi(rg|te)|vk(40|5[0-3]|\\-v)|vm40|voda|vulc|vx(52|53|60|61|70|80|81|83|85|98)|w3c(\\-| )|webc|whit|wi(g |nc|nw)|wmlb|wonu|x700|yas\\-|your|zeto|zte\\-/i.test(a.substr(0, 4))) check = true; })(navigator.userAgent || navigator.vendor || window.opera); return check; }; var itViewPort = (screen.width <= 720 ? 'mobile' : 'desktop'); if(isMobile()==true) { itViewPort='mobile'; } if ('serviceWorker' in navigator) { navigator.serviceWorker.register('/service-worker.js').then(function(registration) { }).catch(function(err) { }); } window.addEventListener('appinstalled',evt => { console.log('App Installed'); ga('send', 'event', 'Add to Home screen', 'Click', 'Installed PWA', 1); }) let installPromptEvent; let btnInstall = document.getElementById('install-button'); window.addEventListener('beforeinstallprompt', (event) => { event.preventDefault(); installPromptEvent = event; var pwa_close = getCookiepWA('pwa_close'); if(itViewPort=='mobile' && (pwa_close=='' || pwa_close==null)){ document.querySelector('.install-button').style.display = 'block'; ga('send', 'event', 'Add to Home screen', 'Click', 'Appear at bottom', 1); } }); var cookietime=1*24*60*60*1000 document.querySelector('#install-button').addEventListener('click', () => { ga('send', 'event', 'Add to Home screen', 'Click', 'ATHS launcher', 1); document.querySelector('.install-button').style.display = 'none'; installPromptEvent.prompt(); installPromptEvent.userChoice.then((choice) => { if (choice.outcome === 'accepted') { ga('send', 'event', 'Add to Home screen', 'Click', 'Install', 1); } else { ga('send', 'event', 'Add to Home screen', 'Click', 'Cancel', 1); setCookiePWA('pwa_close','1',cookietime); } installPromptEvent = null; }); }); var b_Cross = document.querySelector(\".b_cross\"); var install_Button = document.querySelector(\".install-button\"); b_Cross.addEventListener(\"click\", function(){ setCookiePWA('pwa_close','1',cookietime); ga('send', 'event', 'Add to Home screen', 'Click', 'Close', 1); install_Button.style.display = \"none\" }); function setCookiePWA(name,value,days) { var expires = \"\"; if (days) { var date = new Date(); date.setTime(date.getTime() + (days)); expires = \"; expires=\" + date.toUTCString(); } document.cookie = name + \"=\" + (value || \"\") + expires + \"; path=/\"; } function getCookiepWA(name) { var nameEQ = name + \"=\"; var ca = document.cookie.split(';'); for(var i=0;i < ca.length;i++) { var c = ca[i]; while (c.charAt(0)==' ') c = c.substring(1,c.length); if (c.indexOf(nameEQ) == 0) return c.substring(nameEQ.length,c.length); } return null; } function eraseCookiePWA(name) { document.cookie = name +'=; Path=/; Expires=Thu, 01 Jan 1970 00:00:01 GMT;'; } function loadAdsR(ids,w,pdv){ var adParad = document.createElement('script'); var adDdivbxd = document.createElement('div'); adDdivbxd.id = ids; adDdivbxd.style='min-width: \"'+w+'\"px; min-height: 600px;' var ad = 'googletag.cmd.push(function() { googletag.display(\"'+ids+'\"); });'; var td = document.createTextNode(ad); adParad.appendChild(td); adDdivbxd.appendChild(adParad); document.getElementById(pdv).appendChild(adDdivbxd); }\n",
      "if (is_mobile_n > 1500 && is_mobile_n < 1860) { var ids = \"div-gpt-ad-1635767425290-0\"; loadAdsR(ids, 120, 'screen-ad-lhs'); } if (is_mobile_n > 1860) { var ids = \"div-gpt-ad-1640668259457-0\"; loadAdsR(ids, 300, 'screen-ad-lhs'); }\n",
      "if (is_mobile_n > 1500 && is_mobile_n < 1860) { var ids = \"div-gpt-ad-1635767497902-0\"; loadAdsR(ids, 120, 'screen-ad-rhs'); } if (is_mobile_n > 1860) { var ids = \"div-gpt-ad-1640668334526-0\"; loadAdsR(ids, 300, 'screen-ad-rhs'); }\n",
      "@media screen and (min-width: 1470px){ .lhsAdvertisement {width:auto;height: auto;position: fixed;left: calc((100vw - 1200px)/2);transform: translateX(calc(-100% - 10px));top: 205px;z-index:9999;} .rhsAdvertisement {width: auto;height: auto;position: fixed;top: 0px;right: calc((100vw - 1200px)/2);transform: translateX(calc(100% + 10px));top: 205px;z-index:9999;} } @media (max-width:1366px) { .lhsAdvertisement, .rhsAdvertisement {display:none} }\n",
      "jQuery(document).ready(function () { flag_n = true; var feedurl = \"https://feeds.intoday.in/geocheck\"; jQuery.ajax({ url: feedurl, type: \"get\", success: function (d) { if (d !== undefined) { var data = JSON.parse(d); var text = '<div class=\"container\"><marquee behavior=\"scroll\" direction=\"left\" onmouseout=\"this.start();\" onmouseover=\"this.stop();\" scrollamount=\"5\" scrolldelay=\"0\"><div class=\"marquee-child\"><a target=\"_blank\" href=\"https://www.indiatoday.in/livetv?utm_source=topglobalnavigation&utm_medium=USLiveTVLink&utm_campaign=Live_TV_ticker\">India Today Live TV is now available in United States, click here to Watch Live.</a></div></marquee></div>'; console.log(data.country_code); if (data.country_code == 'US') { //jQuery(\".top-marquee\").css(\"display\",\"block\"); jQuery(\".top-marquee\").html(text); } else { jQuery(\".top-marquee\").css(\"display\",\"none\"); } } } }); });\n"
     ]
    }
   ],
   "source": [
    "title =  response.html.find('div', first=True).text\n",
    "print(title)"
   ]
  },
  {
   "cell_type": "code",
   "execution_count": 8,
   "id": "fcaca97a",
   "metadata": {},
   "outputs": [
    {
     "data": {
      "text/plain": [
       "str"
      ]
     },
     "execution_count": 8,
     "metadata": {},
     "output_type": "execute_result"
    }
   ],
   "source": [
    "type(title)\n"
   ]
  },
  {
   "cell_type": "code",
   "execution_count": 9,
   "id": "ffb1ea70",
   "metadata": {},
   "outputs": [
    {
     "data": {
      "text/plain": [
       "60449"
      ]
     },
     "execution_count": 9,
     "metadata": {},
     "output_type": "execute_result"
    }
   ],
   "source": [
    "len(title)"
   ]
  },
  {
   "cell_type": "code",
   "execution_count": 10,
   "id": "b39cb32d",
   "metadata": {},
   "outputs": [],
   "source": [
    "links = str(link)"
   ]
  },
  {
   "cell_type": "code",
   "execution_count": 11,
   "id": "bd8649a7",
   "metadata": {},
   "outputs": [
    {
     "data": {
      "text/plain": [
       "\"{'https://www.indiatoday.in/conclave-east/2022', 'https://www.indiatoday.in/pr-newswire', 'https://www.thelallantop.com/', 'https://www.indiatoday.in/india/story/kaali-row-mahua-moitra-bjp-chief-sukanta-arrest-suspend-tmc-1970897-2022-07-06', 'https://www.indiatoday.in/india/story/amravati-accused-has-rape-case-registered-against-him-1970885-2022-07-06', 'https://www.indiatoday.in/elections/story/up-bypolls-sp-hopes-retain-stronghold-bjp-aiming-make-dent-bsp-struggles-stay-relevant-1964682-2022-06-20', 'https://goo.gl/qtxzZf', 'http://www.cosmopolitan.in/', 'https://www.indiatoday.in/world', 'http://www.thomsonpress.com/', 'https://www.indiatoday.in/trending-news', 'https://www.indiatoday.in/foryou', 'https://www.gnttv.com/', 'https://www.indiatoday.in/fact-check/video/fact-check-video-flooded-neighbourhood-in-haryana-becomes-delhi-on-social-media-1970639-2022-07-05?utm_source=rhs&utm_medium=It&utm_campaign=watchrightnow&t_source=rhs&t_medium=It&t_campaign=watchrightnow', 'https://www.indiatoday.in/partners.jsp', 'https://www.indiatoday.in/sports/tennis/story/nick-kyrgios-summoned-to-court-in-australia-over-assault-allegation-1970856-2022-07-06', 'https://www.indiatoday.in/india/story/udaipur-butchers-weaponized-radical-ideology-before-picking-up-cleaver-1970539-2022-07-05?utm_source=rhs&utm_medium=It&utm_campaign=readthis&t_source=rhs&t_medium=It&t_campaign=readthis', 'https://www.indiatoday.in/india/video/karnataka-vastu-expert-chandrashekhar-guruji-stabbed-to-death-in-hubballi-hotel-1970577-2022-07-05?utm_source=rhs&utm_medium=It&utm_campaign=watchrightnow&t_source=rhs&t_medium=It&t_campaign=watchrightnow', 'https://www.indiatoday.in/lifestyle/celebrity/photo/hurricane-gals-assam-s-all-girls-rock-band-at-india-today-east-conclave-2022-in-pics-1970129-2022-07-04', 'https://www.aajtak.in', 'https://www.indiatoday.in/india/story/kerala-ngo-terminates-gold-smuggling-accused-swapna-suresh-employment-1970881-2022-07-06', 'http://www.robbreportindia.com/limitededition/2018/', 'http://www.readersdigest.co.in/', 'https://auth.indiatoday.in/saml_login/other/aHR0cHM6Ly93d3cuaW5kaWF0b2RheS5pbi9uZXdzLmh0bWwjc3NvbG9naW49MQ==', 'https://www.indiatoday.in/india/story/dnpa-code-of-ethics-1733696-2020-10-21', 'https://www.indiatoday.in/business', 'https://www.indiatoday.in/sports/tennis/story/wimbledon-2022-i-showed-some-good-tennis-to-novak-djokovic-jannik-sinner-after-crashing-out-in-quarterfinal-1970873-2022-07-06', 'https://www.indiatoday.in/best-universities', 'https://www.indiatoday.in/sports/tennis/story/wimbledon-arabs-always-lose-in-quarters-please-break-this-ons-jabeur-happy-to-fulfill-hicham-arazi-s-request-1970899-2022-07-06', 'https://www.indiatoday.in/trending-news/story/these-no-parking-signs-from-bengaluru-are-viral-the-internet-has-a-lot-to-say-about-them-1970532-2022-07-05', 'https://www.indiatoday.in/newsletter', 'https://www.indiatoday.in/correction-policy', 'https://www.indiatoday.in/videos', 'https://www.indiatoday.in/movies/bollywood/story/blood-sweat-and-bruises-how-taapsee-pannu-became-mithali-raj-watch-1970905-2022-07-06', 'https://www.readersdigest.in/', 'https://www.indiatoday.in/india/video/amravati-murder-cctv-footage-attackers-stalking-slitting-throat-umesh-kolhe-1970833-2022-07-06', 'https://www.indiatoday.in/technology/news/story/redmi-k50i-5g-is-coming-to-india-this-month-gets-a-launch-date-1970918-2022-07-06', 'https://www.indiatoday.in/india/video/monsoon-wreaks-havoc-country-maharashtra-assam-receive-torrential-rains-1970842-2022-07-06', 'http://theredlab.in/', 'https://www.indiatoday.in/elections/story/clashes-bogus-votes-mar-elections-in-darjeeling-siliguri-1966942-2022-06-26', 'https://www.indiatoday.in/conclave-east-2022/video/working-with-bjp-does-not-mean-we-compromise-our-identity-meghalaya-cm-conrad-sangma-1970594-2022-07-05?utm_source=rhs&utm_medium=It&utm_campaign=watchrightnow&t_source=rhs&t_medium=It&t_campaign=watchrightnow', 'https://www.indiatoday.in/programme/first-up/video/mahua-moitra-kaali-poster-row-tmc-aimim-anger-aurangabad-renaming-1970888-2022-07-06', 'https://malayalam.indiatoday.in/', 'https://www.indiatoday.in/movies/regional-cinema/story/samantha-to-make-her-bollywood-debut-opposite-ayushmann-khurrana-in-dinesh-vijan-s-film-report-1970876-2022-07-06', 'https://www.indiatoday.in/news.html', 'https://www.indiatoday.in/elections/story/voting-18-municipal-councils-28-municipalities-underway-haryana-1964228-2022-06-19', 'https://www.indiatoday.in/our-apps', 'https://www.indiatoday.in/education-today', 'https://www.indiatoday.in/india/video/india-today-group-vice-chairperson-kalli-purie-launches-new-digital-venture-india-today-north-east-1970588-2022-07-05?utm_source=rhs&utm_medium=It&utm_campaign=watchrightnow&t_source=rhs&t_medium=It&t_campaign=watchrightnow', 'https://www.indiatoday.in/technology/news/story/-whatsapp-messages-offering-free-visas-jobs-in-uk-is-fake-1970808-2022-07-06', 'http://moneytoday.intoday.in/', 'https://www.ishq.com', 'https://www.indiatoday.in/coronavirus-outbreak/story/tamil-nadu-logs-fresh-covid-infections-chennai-tops-infections-1970903-2022-07-06', 'https://www.indiatoday.in/television', 'https://www.indiatoday.in/movies', 'https://www.indiatoday.in/programme/india-s-agenda/video/kaali-row-mahua-moitra-unfollows-trinamool-twitter-bjp-demands-arrest-1970908-2022-07-06', 'https://www.businesstoday.in/', 'https://www.indiatodaygaming.com/', 'https://www.indiatoday.in/data-intelligence-unit', 'https://www.indiatoday.in/trending-news/story/swiggy-will-reward-you-if-you-can-find-the-delivery-man-who-rode-a-horse-in-heavy-mumbai-rains-1970828-2022-07-06', 'https://www.indiatoday.in/newsmo/video/watch-taapsee-pannu-talks-about-women-in-sports-film-budgets-chak-de-india-more-1970721-2022-07-05?utm_source=rhs&utm_medium=It&utm_campaign=watchrightnow&t_source=rhs&t_medium=It&t_campaign=watchrightnow', 'http://subscriptions.digitaltoday.in/subscriptions/time/subscription.html', 'http://www.indiatodayconclave.com/', 'https://www.indiatoday.in/india/story/amravati-killing-chemist-umesh-kolhe-8-inch-stab-wound-till-spine-nupur-sharma-1970893-2022-07-06', 'https://www.indiatoday.in/sports/cricket/story/joe-root-on-england-s-new-style-of-test-cricket-we-are-heading-into-the-unknown-there-is-more-come-1970827-2022-07-06', 'https://www.indiatoday.in/elections/gujarat-assembly-polls-2022/story/buses-painted-saffron-gujarat-election-congress-alleges-hindutva-politics-1962947-2022-06-16', 'https://www.indiatoday.in/television/photo/harshad-chopda-pranali-rathod-shaheer-sheikh-to-erica-fernandes-tv-celebs-dazzle-the-red-carpet-at-award-show-1969068-2022-07-01', 'https://www.indiatoday.in/movies/regional-cinema/story/shruti-haasan-says-i-am-doing-perfectly-fine-as-she-quashes-rumours-of-hospitalisation-1970846-2022-07-06', 'http://mailtoday.in', 'https://www.indiatoday.in/technology', 'https://www.indiatoday.in/conclave-east-2022/story/lieutenant-general-rana-pratap-kalita-agnipath-scheme-agniveer-armed-forces-1970544-2022-07-05?utm_source=rhs&utm_medium=It&utm_campaign=readthis&t_source=rhs&t_medium=It&t_campaign=readthis', 'https://www.indiatoday.in/fact-check', 'https://www.indiatoday.in/movies/photo/athiya-shetty-and-kl-rahul-jet-off-to-germany-see-pics-1966828-2022-06-26', 'https://www.indiatoday.in/india/story/sc-refuses-to-cancel-actor-vijay-babu-bail-in-sexual-assault-case-1970916-2022-07-06', 'https://www.aajtak.in/rate-card', 'https://www.indiatoday.in/shopping/', 'https://www.indiatoday.in/binge-watch', 'https://www.indiatoday.in/trending-news/story/wordle-382-word-of-the-day-july-6-something-perceived-as-trivial-or-superficial-1970839-2022-07-06', 'https://www.indiatoday.in/sports/cricket/story/july-6-2019-rohit-sharma-becomes-1st-batter-to-hit-5-hundred-in-a-single-edition-of-odi-world-cup-1970869-2022-07-06', 'https://www.indiatoday.in/horoscopes', 'https://www.indiatodaygroup.com/privacy-policy.html', 'https://www.indiatoday.in/technology/news/story/ultahuman-ring-looks-like-a-usual-ring-but-tracks-your-metabolic-health-in-real-time-1970902-2022-07-06', 'https://www.indiatoday.in/sports', 'https://www.indiatoday.in/visualstories/', 'https://www.indiatoday.in/sitemap', 'http://www.businesstoday.in', 'https://www.indiatoday.in/movies/celebrities/story/hrithik-roshan-is-having-major-fomo-as-he-is-yet-to-watch-his-friend-r-madhavan-s-rocketry-1970884-2022-07-06', 'https://www.indiatoday.in/trending-news/story/father-s-savage-response-to-son-after-he-puts-the-wrong-address-while-ordering-food-will-make-you-go-rofl-viral-1970891-2022-07-06', 'https://www.indiacontent.in/', 'https://www.indiatoday.in/movies/bollywood/story/vijay-sethupathi-to-play-villain-in-shah-rukh-khan-and-atlee-s-jawan-exclusive-1970840-2022-07-06', 'https://www.indiatoday.in/india/story/mahrashtra-political-scenario-bmc-polls-next-uddhav-thackeray-shiv-sena-retain-stronghold-eknath-shinde-bjp-1970547-2022-07-05?utm_source=rhs&utm_medium=It&utm_campaign=readthis&t_source=rhs&t_medium=It&t_campaign=readthis', 'https://aajtak.intoday.in/sahitya/2018/', 'https://www.ichowk.in/', 'https://www.indiatoday.in/cities', 'https://www.itg.gg/', 'https://bangla.aajtak.in/', 'https://www.indiatoday.in/trending-news/story/little-boy-jumps-with-joy-as-elder-brother-returns-from-school-dharmendra-shares-viral-video-1970569-2022-07-05', 'http://www.music-today.com/', 'https://www.facebook.com/IndiaToday/', 'https://www.indiatoday.in/bestcolleges/2018', 'https://www.indiatoday.in/interactive/cryptocurrency-price-in-india-bitcoin-ethereum-dogecoin-ripple-litecoin/', 'https://www.indiatoday.in/science', 'https://www.indiatoday.in/elections', 'https://twitter.com/indiatoday', 'https://www.indiatoday.in/movies/celebrities/story/hansal-mehta-breaks-silence-on-not-casting-gay-actors-in-modern-love-mumbai-s-baai-1970820-2022-07-06', 'https://www.indiatoday.in/trending-news/story/viral-video-of-a-man-selling-fruits-in-a-bizarre-way-will-make-you-laugh-out-loud-watch-1970469-2022-07-05', 'https://www.indiatoday.in/technology/news/story/samsung-galaxy-m13-5g-launch-date-india-price-specifications-design-1970875-2022-07-06', 'https://play.indiatodaygaming.com/', 'https://www.indiatoday.in/newsmo', 'https://www.indiatoday.in/movies/regional-cinema/story/aishwarya-rai-bachchan-looks-regal-as-nandini-in-mani-ratnam-s-ponniyin-selvan-see-first-look-poster-1970914-2022-07-06', 'https://www.aajtakcampus.in/', 'https://www.indiatoday.in/india/story/mla-ramesh-kadam-bail-plea-rejected-mumbai-court-embezzlement-1970870-2022-07-06', 'https://www.indiatoday.in/technology/news/story/asus-rog-phone-6-pro-gaming-snapdragon-8-plus-gen-1-chipset-launched-price-india-specifications-1970799-2022-07-06', 'https://aajtak.intoday.in/agenda-aajtak/', 'https://www.indiatoday.in/movies/celebrities/story/shamshera-stars-ranbir-kapoor-vaani-kapoor-set-the-internet-ablaze-with-new-photoshoot-see-pics-1970868-2022-07-06', 'https://www.indiatoday.in/magazine', 'https://www.indiatoday.in/technology/tech-tips/story/whatsapp-self-chat-how-to-use-this-feature-to-take-quick-notes-1970841-2022-07-06', 'https://www.indiatoday.in/technology/news/story/nothing-phone-1-price-in-india-tipped-will-cost-more-than-half-of-iphone-13-1970822-2022-07-06', 'https://www.indiatoday.in/elections/story/aap-agnipath-protests-fail-to-influence-haryana-municipal-elections-1965631-2022-06-22', 'https://www.indiatoday.in/india', 'http://www.caretoday.in/', 'https://www.indiatoday.in/elections/story/bypolls-counting-votes-sunday-3-lok-sabha-7-assembly-seats-1966758-2022-06-25', 'https://www.indiatoday.in/movies/celebrities/story/rajkummar-rao-at-india-today-conclave-east-2022-don-t-want-to-be-part-of-rs-100-crore-film-but-good-cinema-1970597-2022-07-05?utm_source=rhs&utm_medium=It&utm_campaign=readthis&t_source=rhs&t_medium=It&t_campaign=readthis', 'https://www.indiatoday.in/', 'https://www.indiatoday.in/health', 'https://goo.gl/BGCmrr', 'https://aajtak.intoday.in/distribution/rio/', 'https://www.indiatoday.in', 'https://www.indiatoday.in/sports/cricket/story/england-vs-india-everything-you-need-to-know-about-odi-and-t20i-series-1970906-2022-07-06', 'https://www.aajtak.in/', 'https://www.indiatoday.in/auto', 'https://www.dailyo.in/', 'https://www.indiatoday.in/sports/cricket/story/british-and-their-habit-of-distorting-history-amit-mishra-slams-barmy-army-for-posting-false-series-result-1970821-2022-07-06', 'https://www.indiatoday.in/lifestyle/celebrity/photo/soumyojit-das-and-sourendro-mullick-talk-about-meeting-lata-mangeshkar-at-conclave-east-2022-in-pics-1970492-2022-07-05', 'https://www.indiatoday.in/lifestyle', 'https://www.indiatoday.in/interactive/', 'https://www.headlinestoday.in/', 'http://www.vasantvalley.org/', 'https://www.indiatoday.in/sports/cricket/story/india-should-allow-star-players-to-take-part-in-overseas-t20-leagues-for-good-of-cricket-aravinda-de-silva-1970907-2022-07-06', 'https://www.indiatoday.in/india/story/chardham-yatra-2022-uttarakhand-weather-badrinath-highway-closed-debris-1970896-2022-07-06', 'https://www.indiatoday.in/elections/gujarat-assembly-polls-2022/story/aam-aadmi-party-gujarat-state-unit-assembly-elections-1961310-2022-06-12', 'https://www.indiatoday.in/livetv', 'https://goo.gl/S8unuW', 'https://www.indiatoday.in/rss', 'https://www.indiatoday.in/crime', 'https://www.indiatoday.in/elections/gujarat-assembly-polls-2022/story/gujarat-patidar-leader-naresh-patel-will-not-join-politics-sources-1962405-2022-06-14', 'https://www.indiatoday.in/technology/news/story/former-facebook-coder-accuses-mark-zuckerberg-of-waving-his-sword-at-employees-in-office-1970848-2022-07-06', 'https://www.indiatoday.in/trending-news/story/virender-sehwag-gets-trolled-for-calling-virat-kohli-chammiya-during-india-england-test-match-1970602-2022-07-05', 'https://www.indiatoday.in/trending-news/story/their-love-is-a-rainbow-read-the-kolkata-gay-couple-s-story-everyone-is-talking-about-1970546-2022-07-05', 'http://aajtak.intoday.in/dilliaajtak/', 'http://subscriptions.intoday.in/subscriptions/itoday/ith_offer.jsp?source=website'}\""
      ]
     },
     "execution_count": 11,
     "metadata": {},
     "output_type": "execute_result"
    }
   ],
   "source": [
    "links"
   ]
  },
  {
   "cell_type": "code",
   "execution_count": 12,
   "id": "3b7da10f",
   "metadata": {},
   "outputs": [],
   "source": [
    "linkstr = links.split(\",\")"
   ]
  },
  {
   "cell_type": "code",
   "execution_count": 13,
   "id": "86acd8fe",
   "metadata": {},
   "outputs": [
    {
     "data": {
      "text/plain": [
       "[\"{'https://www.indiatoday.in/conclave-east/2022'\",\n",
       " \" 'https://www.indiatoday.in/pr-newswire'\",\n",
       " \" 'https://www.thelallantop.com/'\",\n",
       " \" 'https://www.indiatoday.in/india/story/kaali-row-mahua-moitra-bjp-chief-sukanta-arrest-suspend-tmc-1970897-2022-07-06'\",\n",
       " \" 'https://www.indiatoday.in/india/story/amravati-accused-has-rape-case-registered-against-him-1970885-2022-07-06'\",\n",
       " \" 'https://www.indiatoday.in/elections/story/up-bypolls-sp-hopes-retain-stronghold-bjp-aiming-make-dent-bsp-struggles-stay-relevant-1964682-2022-06-20'\",\n",
       " \" 'https://goo.gl/qtxzZf'\",\n",
       " \" 'http://www.cosmopolitan.in/'\",\n",
       " \" 'https://www.indiatoday.in/world'\",\n",
       " \" 'http://www.thomsonpress.com/'\",\n",
       " \" 'https://www.indiatoday.in/trending-news'\",\n",
       " \" 'https://www.indiatoday.in/foryou'\",\n",
       " \" 'https://www.gnttv.com/'\",\n",
       " \" 'https://www.indiatoday.in/fact-check/video/fact-check-video-flooded-neighbourhood-in-haryana-becomes-delhi-on-social-media-1970639-2022-07-05?utm_source=rhs&utm_medium=It&utm_campaign=watchrightnow&t_source=rhs&t_medium=It&t_campaign=watchrightnow'\",\n",
       " \" 'https://www.indiatoday.in/partners.jsp'\",\n",
       " \" 'https://www.indiatoday.in/sports/tennis/story/nick-kyrgios-summoned-to-court-in-australia-over-assault-allegation-1970856-2022-07-06'\",\n",
       " \" 'https://www.indiatoday.in/india/story/udaipur-butchers-weaponized-radical-ideology-before-picking-up-cleaver-1970539-2022-07-05?utm_source=rhs&utm_medium=It&utm_campaign=readthis&t_source=rhs&t_medium=It&t_campaign=readthis'\",\n",
       " \" 'https://www.indiatoday.in/india/video/karnataka-vastu-expert-chandrashekhar-guruji-stabbed-to-death-in-hubballi-hotel-1970577-2022-07-05?utm_source=rhs&utm_medium=It&utm_campaign=watchrightnow&t_source=rhs&t_medium=It&t_campaign=watchrightnow'\",\n",
       " \" 'https://www.indiatoday.in/lifestyle/celebrity/photo/hurricane-gals-assam-s-all-girls-rock-band-at-india-today-east-conclave-2022-in-pics-1970129-2022-07-04'\",\n",
       " \" 'https://www.aajtak.in'\",\n",
       " \" 'https://www.indiatoday.in/india/story/kerala-ngo-terminates-gold-smuggling-accused-swapna-suresh-employment-1970881-2022-07-06'\",\n",
       " \" 'http://www.robbreportindia.com/limitededition/2018/'\",\n",
       " \" 'http://www.readersdigest.co.in/'\",\n",
       " \" 'https://auth.indiatoday.in/saml_login/other/aHR0cHM6Ly93d3cuaW5kaWF0b2RheS5pbi9uZXdzLmh0bWwjc3NvbG9naW49MQ=='\",\n",
       " \" 'https://www.indiatoday.in/india/story/dnpa-code-of-ethics-1733696-2020-10-21'\",\n",
       " \" 'https://www.indiatoday.in/business'\",\n",
       " \" 'https://www.indiatoday.in/sports/tennis/story/wimbledon-2022-i-showed-some-good-tennis-to-novak-djokovic-jannik-sinner-after-crashing-out-in-quarterfinal-1970873-2022-07-06'\",\n",
       " \" 'https://www.indiatoday.in/best-universities'\",\n",
       " \" 'https://www.indiatoday.in/sports/tennis/story/wimbledon-arabs-always-lose-in-quarters-please-break-this-ons-jabeur-happy-to-fulfill-hicham-arazi-s-request-1970899-2022-07-06'\",\n",
       " \" 'https://www.indiatoday.in/trending-news/story/these-no-parking-signs-from-bengaluru-are-viral-the-internet-has-a-lot-to-say-about-them-1970532-2022-07-05'\",\n",
       " \" 'https://www.indiatoday.in/newsletter'\",\n",
       " \" 'https://www.indiatoday.in/correction-policy'\",\n",
       " \" 'https://www.indiatoday.in/videos'\",\n",
       " \" 'https://www.indiatoday.in/movies/bollywood/story/blood-sweat-and-bruises-how-taapsee-pannu-became-mithali-raj-watch-1970905-2022-07-06'\",\n",
       " \" 'https://www.readersdigest.in/'\",\n",
       " \" 'https://www.indiatoday.in/india/video/amravati-murder-cctv-footage-attackers-stalking-slitting-throat-umesh-kolhe-1970833-2022-07-06'\",\n",
       " \" 'https://www.indiatoday.in/technology/news/story/redmi-k50i-5g-is-coming-to-india-this-month-gets-a-launch-date-1970918-2022-07-06'\",\n",
       " \" 'https://www.indiatoday.in/india/video/monsoon-wreaks-havoc-country-maharashtra-assam-receive-torrential-rains-1970842-2022-07-06'\",\n",
       " \" 'http://theredlab.in/'\",\n",
       " \" 'https://www.indiatoday.in/elections/story/clashes-bogus-votes-mar-elections-in-darjeeling-siliguri-1966942-2022-06-26'\",\n",
       " \" 'https://www.indiatoday.in/conclave-east-2022/video/working-with-bjp-does-not-mean-we-compromise-our-identity-meghalaya-cm-conrad-sangma-1970594-2022-07-05?utm_source=rhs&utm_medium=It&utm_campaign=watchrightnow&t_source=rhs&t_medium=It&t_campaign=watchrightnow'\",\n",
       " \" 'https://www.indiatoday.in/programme/first-up/video/mahua-moitra-kaali-poster-row-tmc-aimim-anger-aurangabad-renaming-1970888-2022-07-06'\",\n",
       " \" 'https://malayalam.indiatoday.in/'\",\n",
       " \" 'https://www.indiatoday.in/movies/regional-cinema/story/samantha-to-make-her-bollywood-debut-opposite-ayushmann-khurrana-in-dinesh-vijan-s-film-report-1970876-2022-07-06'\",\n",
       " \" 'https://www.indiatoday.in/news.html'\",\n",
       " \" 'https://www.indiatoday.in/elections/story/voting-18-municipal-councils-28-municipalities-underway-haryana-1964228-2022-06-19'\",\n",
       " \" 'https://www.indiatoday.in/our-apps'\",\n",
       " \" 'https://www.indiatoday.in/education-today'\",\n",
       " \" 'https://www.indiatoday.in/india/video/india-today-group-vice-chairperson-kalli-purie-launches-new-digital-venture-india-today-north-east-1970588-2022-07-05?utm_source=rhs&utm_medium=It&utm_campaign=watchrightnow&t_source=rhs&t_medium=It&t_campaign=watchrightnow'\",\n",
       " \" 'https://www.indiatoday.in/technology/news/story/-whatsapp-messages-offering-free-visas-jobs-in-uk-is-fake-1970808-2022-07-06'\",\n",
       " \" 'http://moneytoday.intoday.in/'\",\n",
       " \" 'https://www.ishq.com'\",\n",
       " \" 'https://www.indiatoday.in/coronavirus-outbreak/story/tamil-nadu-logs-fresh-covid-infections-chennai-tops-infections-1970903-2022-07-06'\",\n",
       " \" 'https://www.indiatoday.in/television'\",\n",
       " \" 'https://www.indiatoday.in/movies'\",\n",
       " \" 'https://www.indiatoday.in/programme/india-s-agenda/video/kaali-row-mahua-moitra-unfollows-trinamool-twitter-bjp-demands-arrest-1970908-2022-07-06'\",\n",
       " \" 'https://www.businesstoday.in/'\",\n",
       " \" 'https://www.indiatodaygaming.com/'\",\n",
       " \" 'https://www.indiatoday.in/data-intelligence-unit'\",\n",
       " \" 'https://www.indiatoday.in/trending-news/story/swiggy-will-reward-you-if-you-can-find-the-delivery-man-who-rode-a-horse-in-heavy-mumbai-rains-1970828-2022-07-06'\",\n",
       " \" 'https://www.indiatoday.in/newsmo/video/watch-taapsee-pannu-talks-about-women-in-sports-film-budgets-chak-de-india-more-1970721-2022-07-05?utm_source=rhs&utm_medium=It&utm_campaign=watchrightnow&t_source=rhs&t_medium=It&t_campaign=watchrightnow'\",\n",
       " \" 'http://subscriptions.digitaltoday.in/subscriptions/time/subscription.html'\",\n",
       " \" 'http://www.indiatodayconclave.com/'\",\n",
       " \" 'https://www.indiatoday.in/india/story/amravati-killing-chemist-umesh-kolhe-8-inch-stab-wound-till-spine-nupur-sharma-1970893-2022-07-06'\",\n",
       " \" 'https://www.indiatoday.in/sports/cricket/story/joe-root-on-england-s-new-style-of-test-cricket-we-are-heading-into-the-unknown-there-is-more-come-1970827-2022-07-06'\",\n",
       " \" 'https://www.indiatoday.in/elections/gujarat-assembly-polls-2022/story/buses-painted-saffron-gujarat-election-congress-alleges-hindutva-politics-1962947-2022-06-16'\",\n",
       " \" 'https://www.indiatoday.in/television/photo/harshad-chopda-pranali-rathod-shaheer-sheikh-to-erica-fernandes-tv-celebs-dazzle-the-red-carpet-at-award-show-1969068-2022-07-01'\",\n",
       " \" 'https://www.indiatoday.in/movies/regional-cinema/story/shruti-haasan-says-i-am-doing-perfectly-fine-as-she-quashes-rumours-of-hospitalisation-1970846-2022-07-06'\",\n",
       " \" 'http://mailtoday.in'\",\n",
       " \" 'https://www.indiatoday.in/technology'\",\n",
       " \" 'https://www.indiatoday.in/conclave-east-2022/story/lieutenant-general-rana-pratap-kalita-agnipath-scheme-agniveer-armed-forces-1970544-2022-07-05?utm_source=rhs&utm_medium=It&utm_campaign=readthis&t_source=rhs&t_medium=It&t_campaign=readthis'\",\n",
       " \" 'https://www.indiatoday.in/fact-check'\",\n",
       " \" 'https://www.indiatoday.in/movies/photo/athiya-shetty-and-kl-rahul-jet-off-to-germany-see-pics-1966828-2022-06-26'\",\n",
       " \" 'https://www.indiatoday.in/india/story/sc-refuses-to-cancel-actor-vijay-babu-bail-in-sexual-assault-case-1970916-2022-07-06'\",\n",
       " \" 'https://www.aajtak.in/rate-card'\",\n",
       " \" 'https://www.indiatoday.in/shopping/'\",\n",
       " \" 'https://www.indiatoday.in/binge-watch'\",\n",
       " \" 'https://www.indiatoday.in/trending-news/story/wordle-382-word-of-the-day-july-6-something-perceived-as-trivial-or-superficial-1970839-2022-07-06'\",\n",
       " \" 'https://www.indiatoday.in/sports/cricket/story/july-6-2019-rohit-sharma-becomes-1st-batter-to-hit-5-hundred-in-a-single-edition-of-odi-world-cup-1970869-2022-07-06'\",\n",
       " \" 'https://www.indiatoday.in/horoscopes'\",\n",
       " \" 'https://www.indiatodaygroup.com/privacy-policy.html'\",\n",
       " \" 'https://www.indiatoday.in/technology/news/story/ultahuman-ring-looks-like-a-usual-ring-but-tracks-your-metabolic-health-in-real-time-1970902-2022-07-06'\",\n",
       " \" 'https://www.indiatoday.in/sports'\",\n",
       " \" 'https://www.indiatoday.in/visualstories/'\",\n",
       " \" 'https://www.indiatoday.in/sitemap'\",\n",
       " \" 'http://www.businesstoday.in'\",\n",
       " \" 'https://www.indiatoday.in/movies/celebrities/story/hrithik-roshan-is-having-major-fomo-as-he-is-yet-to-watch-his-friend-r-madhavan-s-rocketry-1970884-2022-07-06'\",\n",
       " \" 'https://www.indiatoday.in/trending-news/story/father-s-savage-response-to-son-after-he-puts-the-wrong-address-while-ordering-food-will-make-you-go-rofl-viral-1970891-2022-07-06'\",\n",
       " \" 'https://www.indiacontent.in/'\",\n",
       " \" 'https://www.indiatoday.in/movies/bollywood/story/vijay-sethupathi-to-play-villain-in-shah-rukh-khan-and-atlee-s-jawan-exclusive-1970840-2022-07-06'\",\n",
       " \" 'https://www.indiatoday.in/india/story/mahrashtra-political-scenario-bmc-polls-next-uddhav-thackeray-shiv-sena-retain-stronghold-eknath-shinde-bjp-1970547-2022-07-05?utm_source=rhs&utm_medium=It&utm_campaign=readthis&t_source=rhs&t_medium=It&t_campaign=readthis'\",\n",
       " \" 'https://aajtak.intoday.in/sahitya/2018/'\",\n",
       " \" 'https://www.ichowk.in/'\",\n",
       " \" 'https://www.indiatoday.in/cities'\",\n",
       " \" 'https://www.itg.gg/'\",\n",
       " \" 'https://bangla.aajtak.in/'\",\n",
       " \" 'https://www.indiatoday.in/trending-news/story/little-boy-jumps-with-joy-as-elder-brother-returns-from-school-dharmendra-shares-viral-video-1970569-2022-07-05'\",\n",
       " \" 'http://www.music-today.com/'\",\n",
       " \" 'https://www.facebook.com/IndiaToday/'\",\n",
       " \" 'https://www.indiatoday.in/bestcolleges/2018'\",\n",
       " \" 'https://www.indiatoday.in/interactive/cryptocurrency-price-in-india-bitcoin-ethereum-dogecoin-ripple-litecoin/'\",\n",
       " \" 'https://www.indiatoday.in/science'\",\n",
       " \" 'https://www.indiatoday.in/elections'\",\n",
       " \" 'https://twitter.com/indiatoday'\",\n",
       " \" 'https://www.indiatoday.in/movies/celebrities/story/hansal-mehta-breaks-silence-on-not-casting-gay-actors-in-modern-love-mumbai-s-baai-1970820-2022-07-06'\",\n",
       " \" 'https://www.indiatoday.in/trending-news/story/viral-video-of-a-man-selling-fruits-in-a-bizarre-way-will-make-you-laugh-out-loud-watch-1970469-2022-07-05'\",\n",
       " \" 'https://www.indiatoday.in/technology/news/story/samsung-galaxy-m13-5g-launch-date-india-price-specifications-design-1970875-2022-07-06'\",\n",
       " \" 'https://play.indiatodaygaming.com/'\",\n",
       " \" 'https://www.indiatoday.in/newsmo'\",\n",
       " \" 'https://www.indiatoday.in/movies/regional-cinema/story/aishwarya-rai-bachchan-looks-regal-as-nandini-in-mani-ratnam-s-ponniyin-selvan-see-first-look-poster-1970914-2022-07-06'\",\n",
       " \" 'https://www.aajtakcampus.in/'\",\n",
       " \" 'https://www.indiatoday.in/india/story/mla-ramesh-kadam-bail-plea-rejected-mumbai-court-embezzlement-1970870-2022-07-06'\",\n",
       " \" 'https://www.indiatoday.in/technology/news/story/asus-rog-phone-6-pro-gaming-snapdragon-8-plus-gen-1-chipset-launched-price-india-specifications-1970799-2022-07-06'\",\n",
       " \" 'https://aajtak.intoday.in/agenda-aajtak/'\",\n",
       " \" 'https://www.indiatoday.in/movies/celebrities/story/shamshera-stars-ranbir-kapoor-vaani-kapoor-set-the-internet-ablaze-with-new-photoshoot-see-pics-1970868-2022-07-06'\",\n",
       " \" 'https://www.indiatoday.in/magazine'\",\n",
       " \" 'https://www.indiatoday.in/technology/tech-tips/story/whatsapp-self-chat-how-to-use-this-feature-to-take-quick-notes-1970841-2022-07-06'\",\n",
       " \" 'https://www.indiatoday.in/technology/news/story/nothing-phone-1-price-in-india-tipped-will-cost-more-than-half-of-iphone-13-1970822-2022-07-06'\",\n",
       " \" 'https://www.indiatoday.in/elections/story/aap-agnipath-protests-fail-to-influence-haryana-municipal-elections-1965631-2022-06-22'\",\n",
       " \" 'https://www.indiatoday.in/india'\",\n",
       " \" 'http://www.caretoday.in/'\",\n",
       " \" 'https://www.indiatoday.in/elections/story/bypolls-counting-votes-sunday-3-lok-sabha-7-assembly-seats-1966758-2022-06-25'\",\n",
       " \" 'https://www.indiatoday.in/movies/celebrities/story/rajkummar-rao-at-india-today-conclave-east-2022-don-t-want-to-be-part-of-rs-100-crore-film-but-good-cinema-1970597-2022-07-05?utm_source=rhs&utm_medium=It&utm_campaign=readthis&t_source=rhs&t_medium=It&t_campaign=readthis'\",\n",
       " \" 'https://www.indiatoday.in/'\",\n",
       " \" 'https://www.indiatoday.in/health'\",\n",
       " \" 'https://goo.gl/BGCmrr'\",\n",
       " \" 'https://aajtak.intoday.in/distribution/rio/'\",\n",
       " \" 'https://www.indiatoday.in'\",\n",
       " \" 'https://www.indiatoday.in/sports/cricket/story/england-vs-india-everything-you-need-to-know-about-odi-and-t20i-series-1970906-2022-07-06'\",\n",
       " \" 'https://www.aajtak.in/'\",\n",
       " \" 'https://www.indiatoday.in/auto'\",\n",
       " \" 'https://www.dailyo.in/'\",\n",
       " \" 'https://www.indiatoday.in/sports/cricket/story/british-and-their-habit-of-distorting-history-amit-mishra-slams-barmy-army-for-posting-false-series-result-1970821-2022-07-06'\",\n",
       " \" 'https://www.indiatoday.in/lifestyle/celebrity/photo/soumyojit-das-and-sourendro-mullick-talk-about-meeting-lata-mangeshkar-at-conclave-east-2022-in-pics-1970492-2022-07-05'\",\n",
       " \" 'https://www.indiatoday.in/lifestyle'\",\n",
       " \" 'https://www.indiatoday.in/interactive/'\",\n",
       " \" 'https://www.headlinestoday.in/'\",\n",
       " \" 'http://www.vasantvalley.org/'\",\n",
       " \" 'https://www.indiatoday.in/sports/cricket/story/india-should-allow-star-players-to-take-part-in-overseas-t20-leagues-for-good-of-cricket-aravinda-de-silva-1970907-2022-07-06'\",\n",
       " \" 'https://www.indiatoday.in/india/story/chardham-yatra-2022-uttarakhand-weather-badrinath-highway-closed-debris-1970896-2022-07-06'\",\n",
       " \" 'https://www.indiatoday.in/elections/gujarat-assembly-polls-2022/story/aam-aadmi-party-gujarat-state-unit-assembly-elections-1961310-2022-06-12'\",\n",
       " \" 'https://www.indiatoday.in/livetv'\",\n",
       " \" 'https://goo.gl/S8unuW'\",\n",
       " \" 'https://www.indiatoday.in/rss'\",\n",
       " \" 'https://www.indiatoday.in/crime'\",\n",
       " \" 'https://www.indiatoday.in/elections/gujarat-assembly-polls-2022/story/gujarat-patidar-leader-naresh-patel-will-not-join-politics-sources-1962405-2022-06-14'\",\n",
       " \" 'https://www.indiatoday.in/technology/news/story/former-facebook-coder-accuses-mark-zuckerberg-of-waving-his-sword-at-employees-in-office-1970848-2022-07-06'\",\n",
       " \" 'https://www.indiatoday.in/trending-news/story/virender-sehwag-gets-trolled-for-calling-virat-kohli-chammiya-during-india-england-test-match-1970602-2022-07-05'\",\n",
       " \" 'https://www.indiatoday.in/trending-news/story/their-love-is-a-rainbow-read-the-kolkata-gay-couple-s-story-everyone-is-talking-about-1970546-2022-07-05'\",\n",
       " \" 'http://aajtak.intoday.in/dilliaajtak/'\",\n",
       " \" 'http://subscriptions.intoday.in/subscriptions/itoday/ith_offer.jsp?source=website'}\"]"
      ]
     },
     "execution_count": 13,
     "metadata": {},
     "output_type": "execute_result"
    }
   ],
   "source": [
    "linkstr"
   ]
  },
  {
   "cell_type": "code",
   "execution_count": 14,
   "id": "d317b560",
   "metadata": {},
   "outputs": [
    {
     "data": {
      "text/plain": [
       "list"
      ]
     },
     "execution_count": 14,
     "metadata": {},
     "output_type": "execute_result"
    }
   ],
   "source": [
    "type(linkstr)"
   ]
  },
  {
   "cell_type": "code",
   "execution_count": 15,
   "id": "79cfa3d1",
   "metadata": {},
   "outputs": [
    {
     "data": {
      "text/plain": [
       "\" 'https://www.indiatoday.in/interactive/cryptocurrency-price-in-india-bitcoin-ethereum-dogecoin-ripple-litecoin/'\""
      ]
     },
     "execution_count": 15,
     "metadata": {},
     "output_type": "execute_result"
    }
   ],
   "source": [
    "linkstr[100]"
   ]
  },
  {
   "cell_type": "code",
   "execution_count": 16,
   "id": "c5eba5ea",
   "metadata": {},
   "outputs": [
    {
     "data": {
      "text/plain": [
       "str"
      ]
     },
     "execution_count": 16,
     "metadata": {},
     "output_type": "execute_result"
    }
   ],
   "source": [
    "type(linkstr[1])"
   ]
  },
  {
   "cell_type": "code",
   "execution_count": 17,
   "id": "12c6c45f",
   "metadata": {},
   "outputs": [
    {
     "data": {
      "text/plain": [
       "151"
      ]
     },
     "execution_count": 17,
     "metadata": {},
     "output_type": "execute_result"
    }
   ],
   "source": [
    "len(linkstr)"
   ]
  },
  {
   "cell_type": "code",
   "execution_count": 18,
   "id": "135d9de2",
   "metadata": {},
   "outputs": [
    {
     "data": {
      "text/plain": [
       "'i'"
      ]
     },
     "execution_count": 18,
     "metadata": {},
     "output_type": "execute_result"
    }
   ],
   "source": [
    "linkstr[100][-4]"
   ]
  },
  {
   "cell_type": "code",
   "execution_count": 19,
   "id": "8eef68e8",
   "metadata": {},
   "outputs": [
    {
     "data": {
      "text/plain": [
       "str"
      ]
     },
     "execution_count": 19,
     "metadata": {},
     "output_type": "execute_result"
    }
   ],
   "source": [
    "type(linkstr[100][-4])"
   ]
  },
  {
   "cell_type": "code",
   "execution_count": null,
   "id": "34ba66bb",
   "metadata": {},
   "outputs": [],
   "source": []
  },
  {
   "cell_type": "code",
   "execution_count": 20,
   "id": "49acf2b5",
   "metadata": {},
   "outputs": [
    {
     "data": {
      "text/plain": [
       "bool"
      ]
     },
     "execution_count": 20,
     "metadata": {},
     "output_type": "execute_result"
    }
   ],
   "source": [
    "\n",
    "    type(\"a\" in (\"a\"))\n"
   ]
  },
  {
   "cell_type": "code",
   "execution_count": null,
   "id": "0cd231a6",
   "metadata": {},
   "outputs": [],
   "source": []
  },
  {
   "cell_type": "code",
   "execution_count": 21,
   "id": "cde9b445",
   "metadata": {},
   "outputs": [],
   "source": [
    "newlink = list()"
   ]
  },
  {
   "cell_type": "code",
   "execution_count": 22,
   "id": "7ae7845e",
   "metadata": {},
   "outputs": [],
   "source": [
    "j=0\n",
    "for i in range (0, len(linkstr)):\n",
    "    if linkstr[i][-4] in '-':\n",
    "        newlink.insert(j, linkstr[i])\n",
    "        j=j+1\n",
    "    \n"
   ]
  },
  {
   "cell_type": "code",
   "execution_count": 23,
   "id": "d891d547",
   "metadata": {},
   "outputs": [
    {
     "data": {
      "text/plain": [
       "57"
      ]
     },
     "execution_count": 23,
     "metadata": {},
     "output_type": "execute_result"
    }
   ],
   "source": [
    "len(newlink)"
   ]
  },
  {
   "cell_type": "code",
   "execution_count": 24,
   "id": "4a0940ef",
   "metadata": {},
   "outputs": [
    {
     "data": {
      "text/plain": [
       "151"
      ]
     },
     "execution_count": 24,
     "metadata": {},
     "output_type": "execute_result"
    }
   ],
   "source": [
    "len(linkstr)"
   ]
  },
  {
   "cell_type": "code",
   "execution_count": 25,
   "id": "b041ec50",
   "metadata": {},
   "outputs": [
    {
     "data": {
      "text/plain": [
       "[\" 'https://www.indiatoday.in/india/story/kaali-row-mahua-moitra-bjp-chief-sukanta-arrest-suspend-tmc-1970897-2022-07-06'\",\n",
       " \" 'https://www.indiatoday.in/india/story/amravati-accused-has-rape-case-registered-against-him-1970885-2022-07-06'\",\n",
       " \" 'https://www.indiatoday.in/elections/story/up-bypolls-sp-hopes-retain-stronghold-bjp-aiming-make-dent-bsp-struggles-stay-relevant-1964682-2022-06-20'\",\n",
       " \" 'https://www.indiatoday.in/sports/tennis/story/nick-kyrgios-summoned-to-court-in-australia-over-assault-allegation-1970856-2022-07-06'\",\n",
       " \" 'https://www.indiatoday.in/lifestyle/celebrity/photo/hurricane-gals-assam-s-all-girls-rock-band-at-india-today-east-conclave-2022-in-pics-1970129-2022-07-04'\",\n",
       " \" 'https://www.indiatoday.in/india/story/kerala-ngo-terminates-gold-smuggling-accused-swapna-suresh-employment-1970881-2022-07-06'\",\n",
       " \" 'https://www.indiatoday.in/india/story/dnpa-code-of-ethics-1733696-2020-10-21'\",\n",
       " \" 'https://www.indiatoday.in/sports/tennis/story/wimbledon-2022-i-showed-some-good-tennis-to-novak-djokovic-jannik-sinner-after-crashing-out-in-quarterfinal-1970873-2022-07-06'\",\n",
       " \" 'https://www.indiatoday.in/sports/tennis/story/wimbledon-arabs-always-lose-in-quarters-please-break-this-ons-jabeur-happy-to-fulfill-hicham-arazi-s-request-1970899-2022-07-06'\",\n",
       " \" 'https://www.indiatoday.in/trending-news/story/these-no-parking-signs-from-bengaluru-are-viral-the-internet-has-a-lot-to-say-about-them-1970532-2022-07-05'\",\n",
       " \" 'https://www.indiatoday.in/movies/bollywood/story/blood-sweat-and-bruises-how-taapsee-pannu-became-mithali-raj-watch-1970905-2022-07-06'\",\n",
       " \" 'https://www.indiatoday.in/india/video/amravati-murder-cctv-footage-attackers-stalking-slitting-throat-umesh-kolhe-1970833-2022-07-06'\",\n",
       " \" 'https://www.indiatoday.in/technology/news/story/redmi-k50i-5g-is-coming-to-india-this-month-gets-a-launch-date-1970918-2022-07-06'\",\n",
       " \" 'https://www.indiatoday.in/india/video/monsoon-wreaks-havoc-country-maharashtra-assam-receive-torrential-rains-1970842-2022-07-06'\",\n",
       " \" 'https://www.indiatoday.in/elections/story/clashes-bogus-votes-mar-elections-in-darjeeling-siliguri-1966942-2022-06-26'\",\n",
       " \" 'https://www.indiatoday.in/programme/first-up/video/mahua-moitra-kaali-poster-row-tmc-aimim-anger-aurangabad-renaming-1970888-2022-07-06'\",\n",
       " \" 'https://www.indiatoday.in/movies/regional-cinema/story/samantha-to-make-her-bollywood-debut-opposite-ayushmann-khurrana-in-dinesh-vijan-s-film-report-1970876-2022-07-06'\",\n",
       " \" 'https://www.indiatoday.in/elections/story/voting-18-municipal-councils-28-municipalities-underway-haryana-1964228-2022-06-19'\",\n",
       " \" 'https://www.indiatoday.in/technology/news/story/-whatsapp-messages-offering-free-visas-jobs-in-uk-is-fake-1970808-2022-07-06'\",\n",
       " \" 'https://www.indiatoday.in/coronavirus-outbreak/story/tamil-nadu-logs-fresh-covid-infections-chennai-tops-infections-1970903-2022-07-06'\",\n",
       " \" 'https://www.indiatoday.in/programme/india-s-agenda/video/kaali-row-mahua-moitra-unfollows-trinamool-twitter-bjp-demands-arrest-1970908-2022-07-06'\",\n",
       " \" 'https://www.indiatoday.in/trending-news/story/swiggy-will-reward-you-if-you-can-find-the-delivery-man-who-rode-a-horse-in-heavy-mumbai-rains-1970828-2022-07-06'\",\n",
       " \" 'https://www.indiatoday.in/india/story/amravati-killing-chemist-umesh-kolhe-8-inch-stab-wound-till-spine-nupur-sharma-1970893-2022-07-06'\",\n",
       " \" 'https://www.indiatoday.in/sports/cricket/story/joe-root-on-england-s-new-style-of-test-cricket-we-are-heading-into-the-unknown-there-is-more-come-1970827-2022-07-06'\",\n",
       " \" 'https://www.indiatoday.in/elections/gujarat-assembly-polls-2022/story/buses-painted-saffron-gujarat-election-congress-alleges-hindutva-politics-1962947-2022-06-16'\",\n",
       " \" 'https://www.indiatoday.in/television/photo/harshad-chopda-pranali-rathod-shaheer-sheikh-to-erica-fernandes-tv-celebs-dazzle-the-red-carpet-at-award-show-1969068-2022-07-01'\",\n",
       " \" 'https://www.indiatoday.in/movies/regional-cinema/story/shruti-haasan-says-i-am-doing-perfectly-fine-as-she-quashes-rumours-of-hospitalisation-1970846-2022-07-06'\",\n",
       " \" 'https://www.indiatoday.in/movies/photo/athiya-shetty-and-kl-rahul-jet-off-to-germany-see-pics-1966828-2022-06-26'\",\n",
       " \" 'https://www.indiatoday.in/india/story/sc-refuses-to-cancel-actor-vijay-babu-bail-in-sexual-assault-case-1970916-2022-07-06'\",\n",
       " \" 'https://www.indiatoday.in/trending-news/story/wordle-382-word-of-the-day-july-6-something-perceived-as-trivial-or-superficial-1970839-2022-07-06'\",\n",
       " \" 'https://www.indiatoday.in/sports/cricket/story/july-6-2019-rohit-sharma-becomes-1st-batter-to-hit-5-hundred-in-a-single-edition-of-odi-world-cup-1970869-2022-07-06'\",\n",
       " \" 'https://www.indiatoday.in/technology/news/story/ultahuman-ring-looks-like-a-usual-ring-but-tracks-your-metabolic-health-in-real-time-1970902-2022-07-06'\",\n",
       " \" 'https://www.indiatoday.in/movies/celebrities/story/hrithik-roshan-is-having-major-fomo-as-he-is-yet-to-watch-his-friend-r-madhavan-s-rocketry-1970884-2022-07-06'\",\n",
       " \" 'https://www.indiatoday.in/trending-news/story/father-s-savage-response-to-son-after-he-puts-the-wrong-address-while-ordering-food-will-make-you-go-rofl-viral-1970891-2022-07-06'\",\n",
       " \" 'https://www.indiatoday.in/movies/bollywood/story/vijay-sethupathi-to-play-villain-in-shah-rukh-khan-and-atlee-s-jawan-exclusive-1970840-2022-07-06'\",\n",
       " \" 'https://www.indiatoday.in/trending-news/story/little-boy-jumps-with-joy-as-elder-brother-returns-from-school-dharmendra-shares-viral-video-1970569-2022-07-05'\",\n",
       " \" 'https://www.indiatoday.in/movies/celebrities/story/hansal-mehta-breaks-silence-on-not-casting-gay-actors-in-modern-love-mumbai-s-baai-1970820-2022-07-06'\",\n",
       " \" 'https://www.indiatoday.in/trending-news/story/viral-video-of-a-man-selling-fruits-in-a-bizarre-way-will-make-you-laugh-out-loud-watch-1970469-2022-07-05'\",\n",
       " \" 'https://www.indiatoday.in/technology/news/story/samsung-galaxy-m13-5g-launch-date-india-price-specifications-design-1970875-2022-07-06'\",\n",
       " \" 'https://www.indiatoday.in/movies/regional-cinema/story/aishwarya-rai-bachchan-looks-regal-as-nandini-in-mani-ratnam-s-ponniyin-selvan-see-first-look-poster-1970914-2022-07-06'\",\n",
       " \" 'https://www.indiatoday.in/india/story/mla-ramesh-kadam-bail-plea-rejected-mumbai-court-embezzlement-1970870-2022-07-06'\",\n",
       " \" 'https://www.indiatoday.in/technology/news/story/asus-rog-phone-6-pro-gaming-snapdragon-8-plus-gen-1-chipset-launched-price-india-specifications-1970799-2022-07-06'\",\n",
       " \" 'https://www.indiatoday.in/movies/celebrities/story/shamshera-stars-ranbir-kapoor-vaani-kapoor-set-the-internet-ablaze-with-new-photoshoot-see-pics-1970868-2022-07-06'\",\n",
       " \" 'https://www.indiatoday.in/technology/tech-tips/story/whatsapp-self-chat-how-to-use-this-feature-to-take-quick-notes-1970841-2022-07-06'\",\n",
       " \" 'https://www.indiatoday.in/technology/news/story/nothing-phone-1-price-in-india-tipped-will-cost-more-than-half-of-iphone-13-1970822-2022-07-06'\",\n",
       " \" 'https://www.indiatoday.in/elections/story/aap-agnipath-protests-fail-to-influence-haryana-municipal-elections-1965631-2022-06-22'\",\n",
       " \" 'https://www.indiatoday.in/elections/story/bypolls-counting-votes-sunday-3-lok-sabha-7-assembly-seats-1966758-2022-06-25'\",\n",
       " \" 'https://www.indiatoday.in/sports/cricket/story/england-vs-india-everything-you-need-to-know-about-odi-and-t20i-series-1970906-2022-07-06'\",\n",
       " \" 'https://www.indiatoday.in/sports/cricket/story/british-and-their-habit-of-distorting-history-amit-mishra-slams-barmy-army-for-posting-false-series-result-1970821-2022-07-06'\",\n",
       " \" 'https://www.indiatoday.in/lifestyle/celebrity/photo/soumyojit-das-and-sourendro-mullick-talk-about-meeting-lata-mangeshkar-at-conclave-east-2022-in-pics-1970492-2022-07-05'\",\n",
       " \" 'https://www.indiatoday.in/sports/cricket/story/india-should-allow-star-players-to-take-part-in-overseas-t20-leagues-for-good-of-cricket-aravinda-de-silva-1970907-2022-07-06'\",\n",
       " \" 'https://www.indiatoday.in/india/story/chardham-yatra-2022-uttarakhand-weather-badrinath-highway-closed-debris-1970896-2022-07-06'\",\n",
       " \" 'https://www.indiatoday.in/elections/gujarat-assembly-polls-2022/story/aam-aadmi-party-gujarat-state-unit-assembly-elections-1961310-2022-06-12'\",\n",
       " \" 'https://www.indiatoday.in/elections/gujarat-assembly-polls-2022/story/gujarat-patidar-leader-naresh-patel-will-not-join-politics-sources-1962405-2022-06-14'\",\n",
       " \" 'https://www.indiatoday.in/technology/news/story/former-facebook-coder-accuses-mark-zuckerberg-of-waving-his-sword-at-employees-in-office-1970848-2022-07-06'\",\n",
       " \" 'https://www.indiatoday.in/trending-news/story/virender-sehwag-gets-trolled-for-calling-virat-kohli-chammiya-during-india-england-test-match-1970602-2022-07-05'\",\n",
       " \" 'https://www.indiatoday.in/trending-news/story/their-love-is-a-rainbow-read-the-kolkata-gay-couple-s-story-everyone-is-talking-about-1970546-2022-07-05'\"]"
      ]
     },
     "execution_count": 25,
     "metadata": {},
     "output_type": "execute_result"
    }
   ],
   "source": [
    "newlink"
   ]
  },
  {
   "cell_type": "code",
   "execution_count": 26,
   "id": "0fb38f81",
   "metadata": {},
   "outputs": [],
   "source": [
    "string = \"naaaaaaaaaaaaaaaaaaaaayan\"\n"
   ]
  },
  {
   "cell_type": "code",
   "execution_count": 27,
   "id": "457010b7",
   "metadata": {},
   "outputs": [
    {
     "data": {
      "text/plain": [
       "23"
      ]
     },
     "execution_count": 27,
     "metadata": {},
     "output_type": "execute_result"
    }
   ],
   "source": [
    "string.rfind('a')\n"
   ]
  },
  {
   "cell_type": "code",
   "execution_count": 28,
   "id": "cc6258c6",
   "metadata": {},
   "outputs": [
    {
     "data": {
      "text/plain": [
       "int"
      ]
     },
     "execution_count": 28,
     "metadata": {},
     "output_type": "execute_result"
    }
   ],
   "source": [
    "type(string.find('a'))"
   ]
  },
  {
   "cell_type": "code",
   "execution_count": 29,
   "id": "037e30c4",
   "metadata": {},
   "outputs": [],
   "source": [
    "title = list()"
   ]
  },
  {
   "cell_type": "code",
   "execution_count": null,
   "id": "3cab2be9",
   "metadata": {},
   "outputs": [],
   "source": []
  },
  {
   "cell_type": "code",
   "execution_count": 30,
   "id": "f9d3b60f",
   "metadata": {},
   "outputs": [],
   "source": [
    "\n",
    "for i in range (0, len(newlink)):\n",
    "    string = newlink[i]\n",
    "    string = string[string.rfind(\"/\")+1 : string.rfind(\"''\")]\n",
    "    title.insert(i,string)"
   ]
  },
  {
   "cell_type": "code",
   "execution_count": 31,
   "id": "b242e78b",
   "metadata": {},
   "outputs": [
    {
     "data": {
      "text/plain": [
       "57"
      ]
     },
     "execution_count": 31,
     "metadata": {},
     "output_type": "execute_result"
    }
   ],
   "source": [
    "len(title)"
   ]
  },
  {
   "cell_type": "code",
   "execution_count": 32,
   "id": "a8bb6a05",
   "metadata": {},
   "outputs": [
    {
     "data": {
      "text/plain": [
       "['kaali-row-mahua-moitra-bjp-chief-sukanta-arrest-suspend-tmc-1970897-2022-07-06',\n",
       " 'amravati-accused-has-rape-case-registered-against-him-1970885-2022-07-06',\n",
       " 'up-bypolls-sp-hopes-retain-stronghold-bjp-aiming-make-dent-bsp-struggles-stay-relevant-1964682-2022-06-20',\n",
       " 'nick-kyrgios-summoned-to-court-in-australia-over-assault-allegation-1970856-2022-07-06',\n",
       " 'hurricane-gals-assam-s-all-girls-rock-band-at-india-today-east-conclave-2022-in-pics-1970129-2022-07-04',\n",
       " 'kerala-ngo-terminates-gold-smuggling-accused-swapna-suresh-employment-1970881-2022-07-06',\n",
       " 'dnpa-code-of-ethics-1733696-2020-10-21',\n",
       " 'wimbledon-2022-i-showed-some-good-tennis-to-novak-djokovic-jannik-sinner-after-crashing-out-in-quarterfinal-1970873-2022-07-06',\n",
       " 'wimbledon-arabs-always-lose-in-quarters-please-break-this-ons-jabeur-happy-to-fulfill-hicham-arazi-s-request-1970899-2022-07-06',\n",
       " 'these-no-parking-signs-from-bengaluru-are-viral-the-internet-has-a-lot-to-say-about-them-1970532-2022-07-05',\n",
       " 'blood-sweat-and-bruises-how-taapsee-pannu-became-mithali-raj-watch-1970905-2022-07-06',\n",
       " 'amravati-murder-cctv-footage-attackers-stalking-slitting-throat-umesh-kolhe-1970833-2022-07-06',\n",
       " 'redmi-k50i-5g-is-coming-to-india-this-month-gets-a-launch-date-1970918-2022-07-06',\n",
       " 'monsoon-wreaks-havoc-country-maharashtra-assam-receive-torrential-rains-1970842-2022-07-06',\n",
       " 'clashes-bogus-votes-mar-elections-in-darjeeling-siliguri-1966942-2022-06-26',\n",
       " 'mahua-moitra-kaali-poster-row-tmc-aimim-anger-aurangabad-renaming-1970888-2022-07-06',\n",
       " 'samantha-to-make-her-bollywood-debut-opposite-ayushmann-khurrana-in-dinesh-vijan-s-film-report-1970876-2022-07-06',\n",
       " 'voting-18-municipal-councils-28-municipalities-underway-haryana-1964228-2022-06-19',\n",
       " '-whatsapp-messages-offering-free-visas-jobs-in-uk-is-fake-1970808-2022-07-06',\n",
       " 'tamil-nadu-logs-fresh-covid-infections-chennai-tops-infections-1970903-2022-07-06',\n",
       " 'kaali-row-mahua-moitra-unfollows-trinamool-twitter-bjp-demands-arrest-1970908-2022-07-06',\n",
       " 'swiggy-will-reward-you-if-you-can-find-the-delivery-man-who-rode-a-horse-in-heavy-mumbai-rains-1970828-2022-07-06',\n",
       " 'amravati-killing-chemist-umesh-kolhe-8-inch-stab-wound-till-spine-nupur-sharma-1970893-2022-07-06',\n",
       " 'joe-root-on-england-s-new-style-of-test-cricket-we-are-heading-into-the-unknown-there-is-more-come-1970827-2022-07-06',\n",
       " 'buses-painted-saffron-gujarat-election-congress-alleges-hindutva-politics-1962947-2022-06-16',\n",
       " 'harshad-chopda-pranali-rathod-shaheer-sheikh-to-erica-fernandes-tv-celebs-dazzle-the-red-carpet-at-award-show-1969068-2022-07-01',\n",
       " 'shruti-haasan-says-i-am-doing-perfectly-fine-as-she-quashes-rumours-of-hospitalisation-1970846-2022-07-06',\n",
       " 'athiya-shetty-and-kl-rahul-jet-off-to-germany-see-pics-1966828-2022-06-26',\n",
       " 'sc-refuses-to-cancel-actor-vijay-babu-bail-in-sexual-assault-case-1970916-2022-07-06',\n",
       " 'wordle-382-word-of-the-day-july-6-something-perceived-as-trivial-or-superficial-1970839-2022-07-06',\n",
       " 'july-6-2019-rohit-sharma-becomes-1st-batter-to-hit-5-hundred-in-a-single-edition-of-odi-world-cup-1970869-2022-07-06',\n",
       " 'ultahuman-ring-looks-like-a-usual-ring-but-tracks-your-metabolic-health-in-real-time-1970902-2022-07-06',\n",
       " 'hrithik-roshan-is-having-major-fomo-as-he-is-yet-to-watch-his-friend-r-madhavan-s-rocketry-1970884-2022-07-06',\n",
       " 'father-s-savage-response-to-son-after-he-puts-the-wrong-address-while-ordering-food-will-make-you-go-rofl-viral-1970891-2022-07-06',\n",
       " 'vijay-sethupathi-to-play-villain-in-shah-rukh-khan-and-atlee-s-jawan-exclusive-1970840-2022-07-06',\n",
       " 'little-boy-jumps-with-joy-as-elder-brother-returns-from-school-dharmendra-shares-viral-video-1970569-2022-07-05',\n",
       " 'hansal-mehta-breaks-silence-on-not-casting-gay-actors-in-modern-love-mumbai-s-baai-1970820-2022-07-06',\n",
       " 'viral-video-of-a-man-selling-fruits-in-a-bizarre-way-will-make-you-laugh-out-loud-watch-1970469-2022-07-05',\n",
       " 'samsung-galaxy-m13-5g-launch-date-india-price-specifications-design-1970875-2022-07-06',\n",
       " 'aishwarya-rai-bachchan-looks-regal-as-nandini-in-mani-ratnam-s-ponniyin-selvan-see-first-look-poster-1970914-2022-07-06',\n",
       " 'mla-ramesh-kadam-bail-plea-rejected-mumbai-court-embezzlement-1970870-2022-07-06',\n",
       " 'asus-rog-phone-6-pro-gaming-snapdragon-8-plus-gen-1-chipset-launched-price-india-specifications-1970799-2022-07-06',\n",
       " 'shamshera-stars-ranbir-kapoor-vaani-kapoor-set-the-internet-ablaze-with-new-photoshoot-see-pics-1970868-2022-07-06',\n",
       " 'whatsapp-self-chat-how-to-use-this-feature-to-take-quick-notes-1970841-2022-07-06',\n",
       " 'nothing-phone-1-price-in-india-tipped-will-cost-more-than-half-of-iphone-13-1970822-2022-07-06',\n",
       " 'aap-agnipath-protests-fail-to-influence-haryana-municipal-elections-1965631-2022-06-22',\n",
       " 'bypolls-counting-votes-sunday-3-lok-sabha-7-assembly-seats-1966758-2022-06-25',\n",
       " 'england-vs-india-everything-you-need-to-know-about-odi-and-t20i-series-1970906-2022-07-06',\n",
       " 'british-and-their-habit-of-distorting-history-amit-mishra-slams-barmy-army-for-posting-false-series-result-1970821-2022-07-06',\n",
       " 'soumyojit-das-and-sourendro-mullick-talk-about-meeting-lata-mangeshkar-at-conclave-east-2022-in-pics-1970492-2022-07-05',\n",
       " 'india-should-allow-star-players-to-take-part-in-overseas-t20-leagues-for-good-of-cricket-aravinda-de-silva-1970907-2022-07-06',\n",
       " 'chardham-yatra-2022-uttarakhand-weather-badrinath-highway-closed-debris-1970896-2022-07-06',\n",
       " 'aam-aadmi-party-gujarat-state-unit-assembly-elections-1961310-2022-06-12',\n",
       " 'gujarat-patidar-leader-naresh-patel-will-not-join-politics-sources-1962405-2022-06-14',\n",
       " 'former-facebook-coder-accuses-mark-zuckerberg-of-waving-his-sword-at-employees-in-office-1970848-2022-07-06',\n",
       " 'virender-sehwag-gets-trolled-for-calling-virat-kohli-chammiya-during-india-england-test-match-1970602-2022-07-05',\n",
       " 'their-love-is-a-rainbow-read-the-kolkata-gay-couple-s-story-everyone-is-talking-about-1970546-2022-07-05']"
      ]
     },
     "execution_count": 32,
     "metadata": {},
     "output_type": "execute_result"
    }
   ],
   "source": [
    "title"
   ]
  },
  {
   "cell_type": "code",
   "execution_count": 33,
   "id": "7430d715",
   "metadata": {},
   "outputs": [],
   "source": [
    "newtitle = list()"
   ]
  },
  {
   "cell_type": "code",
   "execution_count": 34,
   "id": "a32de12c",
   "metadata": {},
   "outputs": [],
   "source": [
    "for i in range (0, len(newlink)):\n",
    "    string = title[i]\n",
    "    string = string.replace(\"-\",\" \")\n",
    "    newtitle.insert(i,string)"
   ]
  },
  {
   "cell_type": "code",
   "execution_count": 35,
   "id": "1f0286e3",
   "metadata": {},
   "outputs": [
    {
     "data": {
      "text/plain": [
       "['kaali row mahua moitra bjp chief sukanta arrest suspend tmc 1970897 2022 07 06',\n",
       " 'amravati accused has rape case registered against him 1970885 2022 07 06',\n",
       " 'up bypolls sp hopes retain stronghold bjp aiming make dent bsp struggles stay relevant 1964682 2022 06 20',\n",
       " 'nick kyrgios summoned to court in australia over assault allegation 1970856 2022 07 06',\n",
       " 'hurricane gals assam s all girls rock band at india today east conclave 2022 in pics 1970129 2022 07 04',\n",
       " 'kerala ngo terminates gold smuggling accused swapna suresh employment 1970881 2022 07 06',\n",
       " 'dnpa code of ethics 1733696 2020 10 21',\n",
       " 'wimbledon 2022 i showed some good tennis to novak djokovic jannik sinner after crashing out in quarterfinal 1970873 2022 07 06',\n",
       " 'wimbledon arabs always lose in quarters please break this ons jabeur happy to fulfill hicham arazi s request 1970899 2022 07 06',\n",
       " 'these no parking signs from bengaluru are viral the internet has a lot to say about them 1970532 2022 07 05',\n",
       " 'blood sweat and bruises how taapsee pannu became mithali raj watch 1970905 2022 07 06',\n",
       " 'amravati murder cctv footage attackers stalking slitting throat umesh kolhe 1970833 2022 07 06',\n",
       " 'redmi k50i 5g is coming to india this month gets a launch date 1970918 2022 07 06',\n",
       " 'monsoon wreaks havoc country maharashtra assam receive torrential rains 1970842 2022 07 06',\n",
       " 'clashes bogus votes mar elections in darjeeling siliguri 1966942 2022 06 26',\n",
       " 'mahua moitra kaali poster row tmc aimim anger aurangabad renaming 1970888 2022 07 06',\n",
       " 'samantha to make her bollywood debut opposite ayushmann khurrana in dinesh vijan s film report 1970876 2022 07 06',\n",
       " 'voting 18 municipal councils 28 municipalities underway haryana 1964228 2022 06 19',\n",
       " ' whatsapp messages offering free visas jobs in uk is fake 1970808 2022 07 06',\n",
       " 'tamil nadu logs fresh covid infections chennai tops infections 1970903 2022 07 06',\n",
       " 'kaali row mahua moitra unfollows trinamool twitter bjp demands arrest 1970908 2022 07 06',\n",
       " 'swiggy will reward you if you can find the delivery man who rode a horse in heavy mumbai rains 1970828 2022 07 06',\n",
       " 'amravati killing chemist umesh kolhe 8 inch stab wound till spine nupur sharma 1970893 2022 07 06',\n",
       " 'joe root on england s new style of test cricket we are heading into the unknown there is more come 1970827 2022 07 06',\n",
       " 'buses painted saffron gujarat election congress alleges hindutva politics 1962947 2022 06 16',\n",
       " 'harshad chopda pranali rathod shaheer sheikh to erica fernandes tv celebs dazzle the red carpet at award show 1969068 2022 07 01',\n",
       " 'shruti haasan says i am doing perfectly fine as she quashes rumours of hospitalisation 1970846 2022 07 06',\n",
       " 'athiya shetty and kl rahul jet off to germany see pics 1966828 2022 06 26',\n",
       " 'sc refuses to cancel actor vijay babu bail in sexual assault case 1970916 2022 07 06',\n",
       " 'wordle 382 word of the day july 6 something perceived as trivial or superficial 1970839 2022 07 06',\n",
       " 'july 6 2019 rohit sharma becomes 1st batter to hit 5 hundred in a single edition of odi world cup 1970869 2022 07 06',\n",
       " 'ultahuman ring looks like a usual ring but tracks your metabolic health in real time 1970902 2022 07 06',\n",
       " 'hrithik roshan is having major fomo as he is yet to watch his friend r madhavan s rocketry 1970884 2022 07 06',\n",
       " 'father s savage response to son after he puts the wrong address while ordering food will make you go rofl viral 1970891 2022 07 06',\n",
       " 'vijay sethupathi to play villain in shah rukh khan and atlee s jawan exclusive 1970840 2022 07 06',\n",
       " 'little boy jumps with joy as elder brother returns from school dharmendra shares viral video 1970569 2022 07 05',\n",
       " 'hansal mehta breaks silence on not casting gay actors in modern love mumbai s baai 1970820 2022 07 06',\n",
       " 'viral video of a man selling fruits in a bizarre way will make you laugh out loud watch 1970469 2022 07 05',\n",
       " 'samsung galaxy m13 5g launch date india price specifications design 1970875 2022 07 06',\n",
       " 'aishwarya rai bachchan looks regal as nandini in mani ratnam s ponniyin selvan see first look poster 1970914 2022 07 06',\n",
       " 'mla ramesh kadam bail plea rejected mumbai court embezzlement 1970870 2022 07 06',\n",
       " 'asus rog phone 6 pro gaming snapdragon 8 plus gen 1 chipset launched price india specifications 1970799 2022 07 06',\n",
       " 'shamshera stars ranbir kapoor vaani kapoor set the internet ablaze with new photoshoot see pics 1970868 2022 07 06',\n",
       " 'whatsapp self chat how to use this feature to take quick notes 1970841 2022 07 06',\n",
       " 'nothing phone 1 price in india tipped will cost more than half of iphone 13 1970822 2022 07 06',\n",
       " 'aap agnipath protests fail to influence haryana municipal elections 1965631 2022 06 22',\n",
       " 'bypolls counting votes sunday 3 lok sabha 7 assembly seats 1966758 2022 06 25',\n",
       " 'england vs india everything you need to know about odi and t20i series 1970906 2022 07 06',\n",
       " 'british and their habit of distorting history amit mishra slams barmy army for posting false series result 1970821 2022 07 06',\n",
       " 'soumyojit das and sourendro mullick talk about meeting lata mangeshkar at conclave east 2022 in pics 1970492 2022 07 05',\n",
       " 'india should allow star players to take part in overseas t20 leagues for good of cricket aravinda de silva 1970907 2022 07 06',\n",
       " 'chardham yatra 2022 uttarakhand weather badrinath highway closed debris 1970896 2022 07 06',\n",
       " 'aam aadmi party gujarat state unit assembly elections 1961310 2022 06 12',\n",
       " 'gujarat patidar leader naresh patel will not join politics sources 1962405 2022 06 14',\n",
       " 'former facebook coder accuses mark zuckerberg of waving his sword at employees in office 1970848 2022 07 06',\n",
       " 'virender sehwag gets trolled for calling virat kohli chammiya during india england test match 1970602 2022 07 05',\n",
       " 'their love is a rainbow read the kolkata gay couple s story everyone is talking about 1970546 2022 07 05']"
      ]
     },
     "execution_count": 35,
     "metadata": {},
     "output_type": "execute_result"
    }
   ],
   "source": [
    "newtitle"
   ]
  },
  {
   "cell_type": "code",
   "execution_count": 36,
   "id": "de1ad734",
   "metadata": {},
   "outputs": [],
   "source": [
    "\n",
    "def find_index(string):\n",
    "    i=0\n",
    "    for c in string[::-1]:\n",
    "        \n",
    "        if (c.isdigit()==True) | (c in (' ')) :\n",
    "            i=i+1\n",
    "        else:\n",
    "            break\n",
    "        \n",
    "\n",
    "    return i\n",
    "        \n",
    "    \n"
   ]
  },
  {
   "cell_type": "code",
   "execution_count": 37,
   "id": "e9814f28",
   "metadata": {},
   "outputs": [],
   "source": [
    "k = find_index('viral video of a man selling fruits in a bizarre way will make you laugh out loud watch 1970469 2022 07 05')"
   ]
  },
  {
   "cell_type": "code",
   "execution_count": 38,
   "id": "675aadfc",
   "metadata": {},
   "outputs": [
    {
     "data": {
      "text/plain": [
       "19"
      ]
     },
     "execution_count": 38,
     "metadata": {},
     "output_type": "execute_result"
    }
   ],
   "source": [
    "k"
   ]
  },
  {
   "cell_type": "code",
   "execution_count": 39,
   "id": "2360e4ba",
   "metadata": {},
   "outputs": [
    {
     "data": {
      "text/plain": [
       "'h'"
      ]
     },
     "execution_count": 39,
     "metadata": {},
     "output_type": "execute_result"
    }
   ],
   "source": [
    "q = 'viral video of a man selling fruits in a bizarre way will make you laugh out loud watch 1970469 2022 07 05'\n",
    "q [-20]"
   ]
  },
  {
   "cell_type": "code",
   "execution_count": 40,
   "id": "a0efcd80",
   "metadata": {},
   "outputs": [],
   "source": [
    "final_title = list()\n",
    "date = list()"
   ]
  },
  {
   "cell_type": "code",
   "execution_count": 41,
   "id": "6337a650",
   "metadata": {
    "scrolled": true
   },
   "outputs": [],
   "source": [
    "for i in range (0, len(newlink)):\n",
    "    string = newtitle[i]\n",
    "    w = find_index(string)    \n",
    "    final_title.insert(i,string[0: -w])\n",
    "    \n",
    "    "
   ]
  },
  {
   "cell_type": "code",
   "execution_count": 42,
   "id": "4988a25c",
   "metadata": {},
   "outputs": [],
   "source": [
    "\n",
    "for i in range (0, len(newlink)):\n",
    "    string = newtitle[i]\n",
    "    w = find_index(string)\n",
    "    \n",
    "    date.insert(i, string[-10 : len(string)])"
   ]
  },
  {
   "cell_type": "code",
   "execution_count": 43,
   "id": "d9d4db59",
   "metadata": {},
   "outputs": [
    {
     "data": {
      "text/plain": [
       "['2022 07 06',\n",
       " '2022 07 06',\n",
       " '2022 06 20',\n",
       " '2022 07 06',\n",
       " '2022 07 04',\n",
       " '2022 07 06',\n",
       " '2020 10 21',\n",
       " '2022 07 06',\n",
       " '2022 07 06',\n",
       " '2022 07 05',\n",
       " '2022 07 06',\n",
       " '2022 07 06',\n",
       " '2022 07 06',\n",
       " '2022 07 06',\n",
       " '2022 06 26',\n",
       " '2022 07 06',\n",
       " '2022 07 06',\n",
       " '2022 06 19',\n",
       " '2022 07 06',\n",
       " '2022 07 06',\n",
       " '2022 07 06',\n",
       " '2022 07 06',\n",
       " '2022 07 06',\n",
       " '2022 07 06',\n",
       " '2022 06 16',\n",
       " '2022 07 01',\n",
       " '2022 07 06',\n",
       " '2022 06 26',\n",
       " '2022 07 06',\n",
       " '2022 07 06',\n",
       " '2022 07 06',\n",
       " '2022 07 06',\n",
       " '2022 07 06',\n",
       " '2022 07 06',\n",
       " '2022 07 06',\n",
       " '2022 07 05',\n",
       " '2022 07 06',\n",
       " '2022 07 05',\n",
       " '2022 07 06',\n",
       " '2022 07 06',\n",
       " '2022 07 06',\n",
       " '2022 07 06',\n",
       " '2022 07 06',\n",
       " '2022 07 06',\n",
       " '2022 07 06',\n",
       " '2022 06 22',\n",
       " '2022 06 25',\n",
       " '2022 07 06',\n",
       " '2022 07 06',\n",
       " '2022 07 05',\n",
       " '2022 07 06',\n",
       " '2022 07 06',\n",
       " '2022 06 12',\n",
       " '2022 06 14',\n",
       " '2022 07 06',\n",
       " '2022 07 05',\n",
       " '2022 07 05']"
      ]
     },
     "execution_count": 43,
     "metadata": {},
     "output_type": "execute_result"
    }
   ],
   "source": [
    "date"
   ]
  },
  {
   "cell_type": "code",
   "execution_count": 44,
   "id": "aafc4d8d",
   "metadata": {},
   "outputs": [
    {
     "data": {
      "text/plain": [
       "57"
      ]
     },
     "execution_count": 44,
     "metadata": {},
     "output_type": "execute_result"
    }
   ],
   "source": [
    "len(final_title)"
   ]
  },
  {
   "cell_type": "code",
   "execution_count": 45,
   "id": "4ab362c4",
   "metadata": {},
   "outputs": [
    {
     "data": {
      "text/plain": [
       "57"
      ]
     },
     "execution_count": 45,
     "metadata": {},
     "output_type": "execute_result"
    }
   ],
   "source": [
    "len(newlink)"
   ]
  },
  {
   "cell_type": "code",
   "execution_count": 46,
   "id": "bf776a12",
   "metadata": {},
   "outputs": [
    {
     "data": {
      "text/html": [
       "<div>\n",
       "<style scoped>\n",
       "    .dataframe tbody tr th:only-of-type {\n",
       "        vertical-align: middle;\n",
       "    }\n",
       "\n",
       "    .dataframe tbody tr th {\n",
       "        vertical-align: top;\n",
       "    }\n",
       "\n",
       "    .dataframe thead th {\n",
       "        text-align: right;\n",
       "    }\n",
       "</style>\n",
       "<table border=\"1\" class=\"dataframe\">\n",
       "  <thead>\n",
       "    <tr style=\"text-align: right;\">\n",
       "      <th></th>\n",
       "      <th>Title</th>\n",
       "      <th>Link</th>\n",
       "      <th>Date</th>\n",
       "    </tr>\n",
       "  </thead>\n",
       "  <tbody>\n",
       "    <tr>\n",
       "      <th>0</th>\n",
       "      <td>kaali row mahua moitra bjp chief sukanta arres...</td>\n",
       "      <td>'https://www.indiatoday.in/india/story/kaali-...</td>\n",
       "      <td>2022 07 06</td>\n",
       "    </tr>\n",
       "    <tr>\n",
       "      <th>1</th>\n",
       "      <td>amravati accused has rape case registered agai...</td>\n",
       "      <td>'https://www.indiatoday.in/india/story/amrava...</td>\n",
       "      <td>2022 07 06</td>\n",
       "    </tr>\n",
       "    <tr>\n",
       "      <th>2</th>\n",
       "      <td>up bypolls sp hopes retain stronghold bjp aimi...</td>\n",
       "      <td>'https://www.indiatoday.in/elections/story/up...</td>\n",
       "      <td>2022 06 20</td>\n",
       "    </tr>\n",
       "    <tr>\n",
       "      <th>3</th>\n",
       "      <td>nick kyrgios summoned to court in australia ov...</td>\n",
       "      <td>'https://www.indiatoday.in/sports/tennis/stor...</td>\n",
       "      <td>2022 07 06</td>\n",
       "    </tr>\n",
       "    <tr>\n",
       "      <th>4</th>\n",
       "      <td>hurricane gals assam s all girls rock band at ...</td>\n",
       "      <td>'https://www.indiatoday.in/lifestyle/celebrit...</td>\n",
       "      <td>2022 07 04</td>\n",
       "    </tr>\n",
       "    <tr>\n",
       "      <th>5</th>\n",
       "      <td>kerala ngo terminates gold smuggling accused s...</td>\n",
       "      <td>'https://www.indiatoday.in/india/story/kerala...</td>\n",
       "      <td>2022 07 06</td>\n",
       "    </tr>\n",
       "    <tr>\n",
       "      <th>6</th>\n",
       "      <td>dnpa code of ethics</td>\n",
       "      <td>'https://www.indiatoday.in/india/story/dnpa-c...</td>\n",
       "      <td>2020 10 21</td>\n",
       "    </tr>\n",
       "    <tr>\n",
       "      <th>7</th>\n",
       "      <td>wimbledon 2022 i showed some good tennis to no...</td>\n",
       "      <td>'https://www.indiatoday.in/sports/tennis/stor...</td>\n",
       "      <td>2022 07 06</td>\n",
       "    </tr>\n",
       "    <tr>\n",
       "      <th>8</th>\n",
       "      <td>wimbledon arabs always lose in quarters please...</td>\n",
       "      <td>'https://www.indiatoday.in/sports/tennis/stor...</td>\n",
       "      <td>2022 07 06</td>\n",
       "    </tr>\n",
       "    <tr>\n",
       "      <th>9</th>\n",
       "      <td>these no parking signs from bengaluru are vira...</td>\n",
       "      <td>'https://www.indiatoday.in/trending-news/stor...</td>\n",
       "      <td>2022 07 05</td>\n",
       "    </tr>\n",
       "    <tr>\n",
       "      <th>10</th>\n",
       "      <td>blood sweat and bruises how taapsee pannu beca...</td>\n",
       "      <td>'https://www.indiatoday.in/movies/bollywood/s...</td>\n",
       "      <td>2022 07 06</td>\n",
       "    </tr>\n",
       "    <tr>\n",
       "      <th>11</th>\n",
       "      <td>amravati murder cctv footage attackers stalkin...</td>\n",
       "      <td>'https://www.indiatoday.in/india/video/amrava...</td>\n",
       "      <td>2022 07 06</td>\n",
       "    </tr>\n",
       "    <tr>\n",
       "      <th>12</th>\n",
       "      <td>redmi k50i 5g is coming to india this month ge...</td>\n",
       "      <td>'https://www.indiatoday.in/technology/news/st...</td>\n",
       "      <td>2022 07 06</td>\n",
       "    </tr>\n",
       "    <tr>\n",
       "      <th>13</th>\n",
       "      <td>monsoon wreaks havoc country maharashtra assam...</td>\n",
       "      <td>'https://www.indiatoday.in/india/video/monsoo...</td>\n",
       "      <td>2022 07 06</td>\n",
       "    </tr>\n",
       "    <tr>\n",
       "      <th>14</th>\n",
       "      <td>clashes bogus votes mar elections in darjeelin...</td>\n",
       "      <td>'https://www.indiatoday.in/elections/story/cl...</td>\n",
       "      <td>2022 06 26</td>\n",
       "    </tr>\n",
       "    <tr>\n",
       "      <th>15</th>\n",
       "      <td>mahua moitra kaali poster row tmc aimim anger ...</td>\n",
       "      <td>'https://www.indiatoday.in/programme/first-up...</td>\n",
       "      <td>2022 07 06</td>\n",
       "    </tr>\n",
       "    <tr>\n",
       "      <th>16</th>\n",
       "      <td>samantha to make her bollywood debut opposite ...</td>\n",
       "      <td>'https://www.indiatoday.in/movies/regional-ci...</td>\n",
       "      <td>2022 07 06</td>\n",
       "    </tr>\n",
       "    <tr>\n",
       "      <th>17</th>\n",
       "      <td>voting 18 municipal councils 28 municipalities...</td>\n",
       "      <td>'https://www.indiatoday.in/elections/story/vo...</td>\n",
       "      <td>2022 06 19</td>\n",
       "    </tr>\n",
       "    <tr>\n",
       "      <th>18</th>\n",
       "      <td>whatsapp messages offering free visas jobs in...</td>\n",
       "      <td>'https://www.indiatoday.in/technology/news/st...</td>\n",
       "      <td>2022 07 06</td>\n",
       "    </tr>\n",
       "    <tr>\n",
       "      <th>19</th>\n",
       "      <td>tamil nadu logs fresh covid infections chennai...</td>\n",
       "      <td>'https://www.indiatoday.in/coronavirus-outbre...</td>\n",
       "      <td>2022 07 06</td>\n",
       "    </tr>\n",
       "    <tr>\n",
       "      <th>20</th>\n",
       "      <td>kaali row mahua moitra unfollows trinamool twi...</td>\n",
       "      <td>'https://www.indiatoday.in/programme/india-s-...</td>\n",
       "      <td>2022 07 06</td>\n",
       "    </tr>\n",
       "    <tr>\n",
       "      <th>21</th>\n",
       "      <td>swiggy will reward you if you can find the del...</td>\n",
       "      <td>'https://www.indiatoday.in/trending-news/stor...</td>\n",
       "      <td>2022 07 06</td>\n",
       "    </tr>\n",
       "    <tr>\n",
       "      <th>22</th>\n",
       "      <td>amravati killing chemist umesh kolhe 8 inch st...</td>\n",
       "      <td>'https://www.indiatoday.in/india/story/amrava...</td>\n",
       "      <td>2022 07 06</td>\n",
       "    </tr>\n",
       "    <tr>\n",
       "      <th>23</th>\n",
       "      <td>joe root on england s new style of test cricke...</td>\n",
       "      <td>'https://www.indiatoday.in/sports/cricket/sto...</td>\n",
       "      <td>2022 07 06</td>\n",
       "    </tr>\n",
       "    <tr>\n",
       "      <th>24</th>\n",
       "      <td>buses painted saffron gujarat election congres...</td>\n",
       "      <td>'https://www.indiatoday.in/elections/gujarat-...</td>\n",
       "      <td>2022 06 16</td>\n",
       "    </tr>\n",
       "    <tr>\n",
       "      <th>25</th>\n",
       "      <td>harshad chopda pranali rathod shaheer sheikh t...</td>\n",
       "      <td>'https://www.indiatoday.in/television/photo/h...</td>\n",
       "      <td>2022 07 01</td>\n",
       "    </tr>\n",
       "    <tr>\n",
       "      <th>26</th>\n",
       "      <td>shruti haasan says i am doing perfectly fine a...</td>\n",
       "      <td>'https://www.indiatoday.in/movies/regional-ci...</td>\n",
       "      <td>2022 07 06</td>\n",
       "    </tr>\n",
       "    <tr>\n",
       "      <th>27</th>\n",
       "      <td>athiya shetty and kl rahul jet off to germany ...</td>\n",
       "      <td>'https://www.indiatoday.in/movies/photo/athiy...</td>\n",
       "      <td>2022 06 26</td>\n",
       "    </tr>\n",
       "    <tr>\n",
       "      <th>28</th>\n",
       "      <td>sc refuses to cancel actor vijay babu bail in ...</td>\n",
       "      <td>'https://www.indiatoday.in/india/story/sc-ref...</td>\n",
       "      <td>2022 07 06</td>\n",
       "    </tr>\n",
       "    <tr>\n",
       "      <th>29</th>\n",
       "      <td>wordle 382 word of the day july 6 something pe...</td>\n",
       "      <td>'https://www.indiatoday.in/trending-news/stor...</td>\n",
       "      <td>2022 07 06</td>\n",
       "    </tr>\n",
       "    <tr>\n",
       "      <th>30</th>\n",
       "      <td>july 6 2019 rohit sharma becomes 1st batter to...</td>\n",
       "      <td>'https://www.indiatoday.in/sports/cricket/sto...</td>\n",
       "      <td>2022 07 06</td>\n",
       "    </tr>\n",
       "    <tr>\n",
       "      <th>31</th>\n",
       "      <td>ultahuman ring looks like a usual ring but tra...</td>\n",
       "      <td>'https://www.indiatoday.in/technology/news/st...</td>\n",
       "      <td>2022 07 06</td>\n",
       "    </tr>\n",
       "    <tr>\n",
       "      <th>32</th>\n",
       "      <td>hrithik roshan is having major fomo as he is y...</td>\n",
       "      <td>'https://www.indiatoday.in/movies/celebrities...</td>\n",
       "      <td>2022 07 06</td>\n",
       "    </tr>\n",
       "    <tr>\n",
       "      <th>33</th>\n",
       "      <td>father s savage response to son after he puts ...</td>\n",
       "      <td>'https://www.indiatoday.in/trending-news/stor...</td>\n",
       "      <td>2022 07 06</td>\n",
       "    </tr>\n",
       "    <tr>\n",
       "      <th>34</th>\n",
       "      <td>vijay sethupathi to play villain in shah rukh ...</td>\n",
       "      <td>'https://www.indiatoday.in/movies/bollywood/s...</td>\n",
       "      <td>2022 07 06</td>\n",
       "    </tr>\n",
       "    <tr>\n",
       "      <th>35</th>\n",
       "      <td>little boy jumps with joy as elder brother ret...</td>\n",
       "      <td>'https://www.indiatoday.in/trending-news/stor...</td>\n",
       "      <td>2022 07 05</td>\n",
       "    </tr>\n",
       "    <tr>\n",
       "      <th>36</th>\n",
       "      <td>hansal mehta breaks silence on not casting gay...</td>\n",
       "      <td>'https://www.indiatoday.in/movies/celebrities...</td>\n",
       "      <td>2022 07 06</td>\n",
       "    </tr>\n",
       "    <tr>\n",
       "      <th>37</th>\n",
       "      <td>viral video of a man selling fruits in a bizar...</td>\n",
       "      <td>'https://www.indiatoday.in/trending-news/stor...</td>\n",
       "      <td>2022 07 05</td>\n",
       "    </tr>\n",
       "    <tr>\n",
       "      <th>38</th>\n",
       "      <td>samsung galaxy m13 5g launch date india price ...</td>\n",
       "      <td>'https://www.indiatoday.in/technology/news/st...</td>\n",
       "      <td>2022 07 06</td>\n",
       "    </tr>\n",
       "    <tr>\n",
       "      <th>39</th>\n",
       "      <td>aishwarya rai bachchan looks regal as nandini ...</td>\n",
       "      <td>'https://www.indiatoday.in/movies/regional-ci...</td>\n",
       "      <td>2022 07 06</td>\n",
       "    </tr>\n",
       "    <tr>\n",
       "      <th>40</th>\n",
       "      <td>mla ramesh kadam bail plea rejected mumbai cou...</td>\n",
       "      <td>'https://www.indiatoday.in/india/story/mla-ra...</td>\n",
       "      <td>2022 07 06</td>\n",
       "    </tr>\n",
       "    <tr>\n",
       "      <th>41</th>\n",
       "      <td>asus rog phone 6 pro gaming snapdragon 8 plus ...</td>\n",
       "      <td>'https://www.indiatoday.in/technology/news/st...</td>\n",
       "      <td>2022 07 06</td>\n",
       "    </tr>\n",
       "    <tr>\n",
       "      <th>42</th>\n",
       "      <td>shamshera stars ranbir kapoor vaani kapoor set...</td>\n",
       "      <td>'https://www.indiatoday.in/movies/celebrities...</td>\n",
       "      <td>2022 07 06</td>\n",
       "    </tr>\n",
       "    <tr>\n",
       "      <th>43</th>\n",
       "      <td>whatsapp self chat how to use this feature to ...</td>\n",
       "      <td>'https://www.indiatoday.in/technology/tech-ti...</td>\n",
       "      <td>2022 07 06</td>\n",
       "    </tr>\n",
       "    <tr>\n",
       "      <th>44</th>\n",
       "      <td>nothing phone 1 price in india tipped will cos...</td>\n",
       "      <td>'https://www.indiatoday.in/technology/news/st...</td>\n",
       "      <td>2022 07 06</td>\n",
       "    </tr>\n",
       "    <tr>\n",
       "      <th>45</th>\n",
       "      <td>aap agnipath protests fail to influence haryan...</td>\n",
       "      <td>'https://www.indiatoday.in/elections/story/aa...</td>\n",
       "      <td>2022 06 22</td>\n",
       "    </tr>\n",
       "    <tr>\n",
       "      <th>46</th>\n",
       "      <td>bypolls counting votes sunday 3 lok sabha 7 as...</td>\n",
       "      <td>'https://www.indiatoday.in/elections/story/by...</td>\n",
       "      <td>2022 06 25</td>\n",
       "    </tr>\n",
       "    <tr>\n",
       "      <th>47</th>\n",
       "      <td>england vs india everything you need to know a...</td>\n",
       "      <td>'https://www.indiatoday.in/sports/cricket/sto...</td>\n",
       "      <td>2022 07 06</td>\n",
       "    </tr>\n",
       "    <tr>\n",
       "      <th>48</th>\n",
       "      <td>british and their habit of distorting history ...</td>\n",
       "      <td>'https://www.indiatoday.in/sports/cricket/sto...</td>\n",
       "      <td>2022 07 06</td>\n",
       "    </tr>\n",
       "    <tr>\n",
       "      <th>49</th>\n",
       "      <td>soumyojit das and sourendro mullick talk about...</td>\n",
       "      <td>'https://www.indiatoday.in/lifestyle/celebrit...</td>\n",
       "      <td>2022 07 05</td>\n",
       "    </tr>\n",
       "    <tr>\n",
       "      <th>50</th>\n",
       "      <td>india should allow star players to take part i...</td>\n",
       "      <td>'https://www.indiatoday.in/sports/cricket/sto...</td>\n",
       "      <td>2022 07 06</td>\n",
       "    </tr>\n",
       "    <tr>\n",
       "      <th>51</th>\n",
       "      <td>chardham yatra 2022 uttarakhand weather badrin...</td>\n",
       "      <td>'https://www.indiatoday.in/india/story/chardh...</td>\n",
       "      <td>2022 07 06</td>\n",
       "    </tr>\n",
       "    <tr>\n",
       "      <th>52</th>\n",
       "      <td>aam aadmi party gujarat state unit assembly el...</td>\n",
       "      <td>'https://www.indiatoday.in/elections/gujarat-...</td>\n",
       "      <td>2022 06 12</td>\n",
       "    </tr>\n",
       "    <tr>\n",
       "      <th>53</th>\n",
       "      <td>gujarat patidar leader naresh patel will not j...</td>\n",
       "      <td>'https://www.indiatoday.in/elections/gujarat-...</td>\n",
       "      <td>2022 06 14</td>\n",
       "    </tr>\n",
       "    <tr>\n",
       "      <th>54</th>\n",
       "      <td>former facebook coder accuses mark zuckerberg ...</td>\n",
       "      <td>'https://www.indiatoday.in/technology/news/st...</td>\n",
       "      <td>2022 07 06</td>\n",
       "    </tr>\n",
       "    <tr>\n",
       "      <th>55</th>\n",
       "      <td>virender sehwag gets trolled for calling virat...</td>\n",
       "      <td>'https://www.indiatoday.in/trending-news/stor...</td>\n",
       "      <td>2022 07 05</td>\n",
       "    </tr>\n",
       "    <tr>\n",
       "      <th>56</th>\n",
       "      <td>their love is a rainbow read the kolkata gay c...</td>\n",
       "      <td>'https://www.indiatoday.in/trending-news/stor...</td>\n",
       "      <td>2022 07 05</td>\n",
       "    </tr>\n",
       "  </tbody>\n",
       "</table>\n",
       "</div>"
      ],
      "text/plain": [
       "                                                Title  \\\n",
       "0   kaali row mahua moitra bjp chief sukanta arres...   \n",
       "1   amravati accused has rape case registered agai...   \n",
       "2   up bypolls sp hopes retain stronghold bjp aimi...   \n",
       "3   nick kyrgios summoned to court in australia ov...   \n",
       "4   hurricane gals assam s all girls rock band at ...   \n",
       "5   kerala ngo terminates gold smuggling accused s...   \n",
       "6                                 dnpa code of ethics   \n",
       "7   wimbledon 2022 i showed some good tennis to no...   \n",
       "8   wimbledon arabs always lose in quarters please...   \n",
       "9   these no parking signs from bengaluru are vira...   \n",
       "10  blood sweat and bruises how taapsee pannu beca...   \n",
       "11  amravati murder cctv footage attackers stalkin...   \n",
       "12  redmi k50i 5g is coming to india this month ge...   \n",
       "13  monsoon wreaks havoc country maharashtra assam...   \n",
       "14  clashes bogus votes mar elections in darjeelin...   \n",
       "15  mahua moitra kaali poster row tmc aimim anger ...   \n",
       "16  samantha to make her bollywood debut opposite ...   \n",
       "17  voting 18 municipal councils 28 municipalities...   \n",
       "18   whatsapp messages offering free visas jobs in...   \n",
       "19  tamil nadu logs fresh covid infections chennai...   \n",
       "20  kaali row mahua moitra unfollows trinamool twi...   \n",
       "21  swiggy will reward you if you can find the del...   \n",
       "22  amravati killing chemist umesh kolhe 8 inch st...   \n",
       "23  joe root on england s new style of test cricke...   \n",
       "24  buses painted saffron gujarat election congres...   \n",
       "25  harshad chopda pranali rathod shaheer sheikh t...   \n",
       "26  shruti haasan says i am doing perfectly fine a...   \n",
       "27  athiya shetty and kl rahul jet off to germany ...   \n",
       "28  sc refuses to cancel actor vijay babu bail in ...   \n",
       "29  wordle 382 word of the day july 6 something pe...   \n",
       "30  july 6 2019 rohit sharma becomes 1st batter to...   \n",
       "31  ultahuman ring looks like a usual ring but tra...   \n",
       "32  hrithik roshan is having major fomo as he is y...   \n",
       "33  father s savage response to son after he puts ...   \n",
       "34  vijay sethupathi to play villain in shah rukh ...   \n",
       "35  little boy jumps with joy as elder brother ret...   \n",
       "36  hansal mehta breaks silence on not casting gay...   \n",
       "37  viral video of a man selling fruits in a bizar...   \n",
       "38  samsung galaxy m13 5g launch date india price ...   \n",
       "39  aishwarya rai bachchan looks regal as nandini ...   \n",
       "40  mla ramesh kadam bail plea rejected mumbai cou...   \n",
       "41  asus rog phone 6 pro gaming snapdragon 8 plus ...   \n",
       "42  shamshera stars ranbir kapoor vaani kapoor set...   \n",
       "43  whatsapp self chat how to use this feature to ...   \n",
       "44  nothing phone 1 price in india tipped will cos...   \n",
       "45  aap agnipath protests fail to influence haryan...   \n",
       "46  bypolls counting votes sunday 3 lok sabha 7 as...   \n",
       "47  england vs india everything you need to know a...   \n",
       "48  british and their habit of distorting history ...   \n",
       "49  soumyojit das and sourendro mullick talk about...   \n",
       "50  india should allow star players to take part i...   \n",
       "51  chardham yatra 2022 uttarakhand weather badrin...   \n",
       "52  aam aadmi party gujarat state unit assembly el...   \n",
       "53  gujarat patidar leader naresh patel will not j...   \n",
       "54  former facebook coder accuses mark zuckerberg ...   \n",
       "55  virender sehwag gets trolled for calling virat...   \n",
       "56  their love is a rainbow read the kolkata gay c...   \n",
       "\n",
       "                                                 Link        Date  \n",
       "0    'https://www.indiatoday.in/india/story/kaali-...  2022 07 06  \n",
       "1    'https://www.indiatoday.in/india/story/amrava...  2022 07 06  \n",
       "2    'https://www.indiatoday.in/elections/story/up...  2022 06 20  \n",
       "3    'https://www.indiatoday.in/sports/tennis/stor...  2022 07 06  \n",
       "4    'https://www.indiatoday.in/lifestyle/celebrit...  2022 07 04  \n",
       "5    'https://www.indiatoday.in/india/story/kerala...  2022 07 06  \n",
       "6    'https://www.indiatoday.in/india/story/dnpa-c...  2020 10 21  \n",
       "7    'https://www.indiatoday.in/sports/tennis/stor...  2022 07 06  \n",
       "8    'https://www.indiatoday.in/sports/tennis/stor...  2022 07 06  \n",
       "9    'https://www.indiatoday.in/trending-news/stor...  2022 07 05  \n",
       "10   'https://www.indiatoday.in/movies/bollywood/s...  2022 07 06  \n",
       "11   'https://www.indiatoday.in/india/video/amrava...  2022 07 06  \n",
       "12   'https://www.indiatoday.in/technology/news/st...  2022 07 06  \n",
       "13   'https://www.indiatoday.in/india/video/monsoo...  2022 07 06  \n",
       "14   'https://www.indiatoday.in/elections/story/cl...  2022 06 26  \n",
       "15   'https://www.indiatoday.in/programme/first-up...  2022 07 06  \n",
       "16   'https://www.indiatoday.in/movies/regional-ci...  2022 07 06  \n",
       "17   'https://www.indiatoday.in/elections/story/vo...  2022 06 19  \n",
       "18   'https://www.indiatoday.in/technology/news/st...  2022 07 06  \n",
       "19   'https://www.indiatoday.in/coronavirus-outbre...  2022 07 06  \n",
       "20   'https://www.indiatoday.in/programme/india-s-...  2022 07 06  \n",
       "21   'https://www.indiatoday.in/trending-news/stor...  2022 07 06  \n",
       "22   'https://www.indiatoday.in/india/story/amrava...  2022 07 06  \n",
       "23   'https://www.indiatoday.in/sports/cricket/sto...  2022 07 06  \n",
       "24   'https://www.indiatoday.in/elections/gujarat-...  2022 06 16  \n",
       "25   'https://www.indiatoday.in/television/photo/h...  2022 07 01  \n",
       "26   'https://www.indiatoday.in/movies/regional-ci...  2022 07 06  \n",
       "27   'https://www.indiatoday.in/movies/photo/athiy...  2022 06 26  \n",
       "28   'https://www.indiatoday.in/india/story/sc-ref...  2022 07 06  \n",
       "29   'https://www.indiatoday.in/trending-news/stor...  2022 07 06  \n",
       "30   'https://www.indiatoday.in/sports/cricket/sto...  2022 07 06  \n",
       "31   'https://www.indiatoday.in/technology/news/st...  2022 07 06  \n",
       "32   'https://www.indiatoday.in/movies/celebrities...  2022 07 06  \n",
       "33   'https://www.indiatoday.in/trending-news/stor...  2022 07 06  \n",
       "34   'https://www.indiatoday.in/movies/bollywood/s...  2022 07 06  \n",
       "35   'https://www.indiatoday.in/trending-news/stor...  2022 07 05  \n",
       "36   'https://www.indiatoday.in/movies/celebrities...  2022 07 06  \n",
       "37   'https://www.indiatoday.in/trending-news/stor...  2022 07 05  \n",
       "38   'https://www.indiatoday.in/technology/news/st...  2022 07 06  \n",
       "39   'https://www.indiatoday.in/movies/regional-ci...  2022 07 06  \n",
       "40   'https://www.indiatoday.in/india/story/mla-ra...  2022 07 06  \n",
       "41   'https://www.indiatoday.in/technology/news/st...  2022 07 06  \n",
       "42   'https://www.indiatoday.in/movies/celebrities...  2022 07 06  \n",
       "43   'https://www.indiatoday.in/technology/tech-ti...  2022 07 06  \n",
       "44   'https://www.indiatoday.in/technology/news/st...  2022 07 06  \n",
       "45   'https://www.indiatoday.in/elections/story/aa...  2022 06 22  \n",
       "46   'https://www.indiatoday.in/elections/story/by...  2022 06 25  \n",
       "47   'https://www.indiatoday.in/sports/cricket/sto...  2022 07 06  \n",
       "48   'https://www.indiatoday.in/sports/cricket/sto...  2022 07 06  \n",
       "49   'https://www.indiatoday.in/lifestyle/celebrit...  2022 07 05  \n",
       "50   'https://www.indiatoday.in/sports/cricket/sto...  2022 07 06  \n",
       "51   'https://www.indiatoday.in/india/story/chardh...  2022 07 06  \n",
       "52   'https://www.indiatoday.in/elections/gujarat-...  2022 06 12  \n",
       "53   'https://www.indiatoday.in/elections/gujarat-...  2022 06 14  \n",
       "54   'https://www.indiatoday.in/technology/news/st...  2022 07 06  \n",
       "55   'https://www.indiatoday.in/trending-news/stor...  2022 07 05  \n",
       "56   'https://www.indiatoday.in/trending-news/stor...  2022 07 05  "
      ]
     },
     "execution_count": 46,
     "metadata": {},
     "output_type": "execute_result"
    }
   ],
   "source": [
    "import pandas as pd\n",
    "df = pd.DataFrame(list(zip(final_title, newlink,date)),\n",
    "               columns =['Title', 'Link', 'Date'])\n",
    "df"
   ]
  },
  {
   "cell_type": "code",
   "execution_count": null,
   "id": "0b781e3d",
   "metadata": {},
   "outputs": [],
   "source": []
  },
  {
   "cell_type": "code",
   "execution_count": null,
   "id": "e8cb9e8e",
   "metadata": {},
   "outputs": [],
   "source": []
  },
  {
   "cell_type": "code",
   "execution_count": null,
   "id": "872ee570",
   "metadata": {},
   "outputs": [],
   "source": []
  },
  {
   "cell_type": "code",
   "execution_count": null,
   "id": "517d0377",
   "metadata": {},
   "outputs": [],
   "source": []
  },
  {
   "cell_type": "code",
   "execution_count": null,
   "id": "550a1f92",
   "metadata": {},
   "outputs": [],
   "source": []
  },
  {
   "cell_type": "code",
   "execution_count": null,
   "id": "fdf42316",
   "metadata": {},
   "outputs": [],
   "source": []
  },
  {
   "cell_type": "code",
   "execution_count": null,
   "id": "7402fe47",
   "metadata": {},
   "outputs": [],
   "source": []
  }
 ],
 "metadata": {
  "kernelspec": {
   "display_name": "Python 3 (ipykernel)",
   "language": "python",
   "name": "python3"
  },
  "language_info": {
   "codemirror_mode": {
    "name": "ipython",
    "version": 3
   },
   "file_extension": ".py",
   "mimetype": "text/x-python",
   "name": "python",
   "nbconvert_exporter": "python",
   "pygments_lexer": "ipython3",
   "version": "3.9.7"
  }
 },
 "nbformat": 4,
 "nbformat_minor": 5
}
